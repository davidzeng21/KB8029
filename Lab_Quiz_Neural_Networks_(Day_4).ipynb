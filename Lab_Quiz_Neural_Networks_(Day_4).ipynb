{
  "nbformat": 4,
  "nbformat_minor": 0,
  "metadata": {
    "colab": {
      "provenance": [],
      "gpuType": "T4",
      "toc_visible": true
    },
    "kernelspec": {
      "name": "python3",
      "display_name": "Python 3"
    },
    "language_info": {
      "name": "python"
    },
    "accelerator": "GPU"
  },
  "cells": [
    {
      "cell_type": "markdown",
      "source": [
        "# **Modules imports**"
      ],
      "metadata": {
        "id": "zyDVHe4Pt039"
      }
    },
    {
      "cell_type": "code",
      "source": [
        "import numpy as np\n",
        "\n",
        "import keras\n",
        "from keras import layers\n",
        "\n",
        "import matplotlib.pyplot as plt"
      ],
      "metadata": {
        "id": "PYXYojPRtxut"
      },
      "execution_count": null,
      "outputs": []
    },
    {
      "cell_type": "markdown",
      "source": [
        "# **Question 2**"
      ],
      "metadata": {
        "id": "c4Pdq3lPrv8y"
      }
    },
    {
      "cell_type": "code",
      "execution_count": null,
      "metadata": {
        "id": "KRrDFfa9ru9c",
        "colab": {
          "base_uri": "https://localhost:8080/"
        },
        "outputId": "abd38b12-71df-4da2-ed12-aa5e8ab4da84"
      },
      "outputs": [
        {
          "output_type": "stream",
          "name": "stdout",
          "text": [
            "Downloading data from https://storage.googleapis.com/tensorflow/tf-keras-datasets/mnist.npz\n",
            "\u001b[1m11490434/11490434\u001b[0m \u001b[32m━━━━━━━━━━━━━━━━━━━━\u001b[0m\u001b[37m\u001b[0m \u001b[1m2s\u001b[0m 0us/step\n"
          ]
        }
      ],
      "source": [
        "# Data parameters\n",
        "num_classes = 10\n",
        "input_shape = (28, 28, 1)\n",
        "\n",
        "# Load the data and split it between train and test sets\n",
        "(x_train, y_train), (x_test, y_test) = keras.datasets.mnist.load_data()\n",
        "\n",
        "# Scale images to the [0, 1] range\n",
        "x_train = x_train.astype(\"float32\") / 255\n",
        "x_test = x_test.astype(\"float32\") / 255\n",
        "\n",
        "# One-hot encode output labels\n",
        "y_train = keras.utils.to_categorical(y_train, num_classes)\n",
        "y_test = keras.utils.to_categorical(y_test, num_classes)"
      ]
    },
    {
      "cell_type": "markdown",
      "source": [
        "### Model 1: Simple Dense Network"
      ],
      "metadata": {
        "id": "zKiURdYEnonJ"
      }
    },
    {
      "cell_type": "code",
      "source": [
        "def create_dense_model():\n",
        "    model_dense = keras.Sequential([\n",
        "        keras.Input(shape=(28, 28, 1)),\n",
        "        keras.layers.Flatten(),\n",
        "        keras.layers.Dense(10, activation=\"tanh\"),\n",
        "        keras.layers.Dense(10, activation=\"softmax\")\n",
        "    ])\n",
        "    return model_dense"
      ],
      "metadata": {
        "id": "laCcZjNfkoCo"
      },
      "execution_count": null,
      "outputs": []
    },
    {
      "cell_type": "markdown",
      "source": [
        "### Model 2: Convolutional Network"
      ],
      "metadata": {
        "id": "zmt0xqMqnypN"
      }
    },
    {
      "cell_type": "code",
      "source": [
        "def create_conv_model():\n",
        "    model_conv = keras.Sequential([\n",
        "        keras.Input(shape=(28, 28, 1)),\n",
        "        keras.layers.Conv2D(10, kernel_size=(5, 5), strides=1, padding=\"valid\"),\n",
        "        keras.layers.Flatten(),  # Need to flatten before dense layer\n",
        "        keras.layers.Dense(10, activation=\"softmax\")\n",
        "    ])\n",
        "    return model_conv"
      ],
      "metadata": {
        "id": "Fghn7M_XnzzC"
      },
      "execution_count": null,
      "outputs": []
    },
    {
      "cell_type": "code",
      "source": [
        "dense_model = create_dense_model()\n",
        "conv_model = create_conv_model()\n",
        "\n",
        "dense_params = dense_model.count_params()\n",
        "conv_params = conv_model.count_params()\n",
        "\n",
        "print(f\"Number of parameters in dense model: {dense_params}\")\n",
        "print(f\"Number of parameters in convolutional model: {conv_params}\")\n"
      ],
      "metadata": {
        "colab": {
          "base_uri": "https://localhost:8080/"
        },
        "id": "bWo7EVlZoT8i",
        "outputId": "e0a4d211-b280-4e29-911a-d5ecc4101f0b"
      },
      "execution_count": null,
      "outputs": [
        {
          "output_type": "stream",
          "name": "stdout",
          "text": [
            "Number of parameters in dense model: 7960\n",
            "Number of parameters in convolutional model: 57870\n"
          ]
        }
      ]
    },
    {
      "cell_type": "code",
      "source": [
        "dense_model.summary()\n",
        "conv_model.summary()"
      ],
      "metadata": {
        "colab": {
          "base_uri": "https://localhost:8080/",
          "height": 446
        },
        "id": "UQnCvRUbooQV",
        "outputId": "4980de3b-be39-4710-98f5-d29e921bcea9"
      },
      "execution_count": null,
      "outputs": [
        {
          "output_type": "display_data",
          "data": {
            "text/plain": [
              "\u001b[1mModel: \"sequential\"\u001b[0m\n"
            ],
            "text/html": [
              "<pre style=\"white-space:pre;overflow-x:auto;line-height:normal;font-family:Menlo,'DejaVu Sans Mono',consolas,'Courier New',monospace\"><span style=\"font-weight: bold\">Model: \"sequential\"</span>\n",
              "</pre>\n"
            ]
          },
          "metadata": {}
        },
        {
          "output_type": "display_data",
          "data": {
            "text/plain": [
              "┏━━━━━━━━━━━━━━━━━━━━━━━━━━━━━━━━━━━━━━┳━━━━━━━━━━━━━━━━━━━━━━━━━━━━━┳━━━━━━━━━━━━━━━━━┓\n",
              "┃\u001b[1m \u001b[0m\u001b[1mLayer (type)                        \u001b[0m\u001b[1m \u001b[0m┃\u001b[1m \u001b[0m\u001b[1mOutput Shape               \u001b[0m\u001b[1m \u001b[0m┃\u001b[1m \u001b[0m\u001b[1m        Param #\u001b[0m\u001b[1m \u001b[0m┃\n",
              "┡━━━━━━━━━━━━━━━━━━━━━━━━━━━━━━━━━━━━━━╇━━━━━━━━━━━━━━━━━━━━━━━━━━━━━╇━━━━━━━━━━━━━━━━━┩\n",
              "│ flatten (\u001b[38;5;33mFlatten\u001b[0m)                    │ (\u001b[38;5;45mNone\u001b[0m, \u001b[38;5;34m784\u001b[0m)                 │               \u001b[38;5;34m0\u001b[0m │\n",
              "├──────────────────────────────────────┼─────────────────────────────┼─────────────────┤\n",
              "│ dense (\u001b[38;5;33mDense\u001b[0m)                        │ (\u001b[38;5;45mNone\u001b[0m, \u001b[38;5;34m10\u001b[0m)                  │           \u001b[38;5;34m7,850\u001b[0m │\n",
              "├──────────────────────────────────────┼─────────────────────────────┼─────────────────┤\n",
              "│ dense_1 (\u001b[38;5;33mDense\u001b[0m)                      │ (\u001b[38;5;45mNone\u001b[0m, \u001b[38;5;34m10\u001b[0m)                  │             \u001b[38;5;34m110\u001b[0m │\n",
              "└──────────────────────────────────────┴─────────────────────────────┴─────────────────┘\n"
            ],
            "text/html": [
              "<pre style=\"white-space:pre;overflow-x:auto;line-height:normal;font-family:Menlo,'DejaVu Sans Mono',consolas,'Courier New',monospace\">┏━━━━━━━━━━━━━━━━━━━━━━━━━━━━━━━━━━━━━━┳━━━━━━━━━━━━━━━━━━━━━━━━━━━━━┳━━━━━━━━━━━━━━━━━┓\n",
              "┃<span style=\"font-weight: bold\"> Layer (type)                         </span>┃<span style=\"font-weight: bold\"> Output Shape                </span>┃<span style=\"font-weight: bold\">         Param # </span>┃\n",
              "┡━━━━━━━━━━━━━━━━━━━━━━━━━━━━━━━━━━━━━━╇━━━━━━━━━━━━━━━━━━━━━━━━━━━━━╇━━━━━━━━━━━━━━━━━┩\n",
              "│ flatten (<span style=\"color: #0087ff; text-decoration-color: #0087ff\">Flatten</span>)                    │ (<span style=\"color: #00d7ff; text-decoration-color: #00d7ff\">None</span>, <span style=\"color: #00af00; text-decoration-color: #00af00\">784</span>)                 │               <span style=\"color: #00af00; text-decoration-color: #00af00\">0</span> │\n",
              "├──────────────────────────────────────┼─────────────────────────────┼─────────────────┤\n",
              "│ dense (<span style=\"color: #0087ff; text-decoration-color: #0087ff\">Dense</span>)                        │ (<span style=\"color: #00d7ff; text-decoration-color: #00d7ff\">None</span>, <span style=\"color: #00af00; text-decoration-color: #00af00\">10</span>)                  │           <span style=\"color: #00af00; text-decoration-color: #00af00\">7,850</span> │\n",
              "├──────────────────────────────────────┼─────────────────────────────┼─────────────────┤\n",
              "│ dense_1 (<span style=\"color: #0087ff; text-decoration-color: #0087ff\">Dense</span>)                      │ (<span style=\"color: #00d7ff; text-decoration-color: #00d7ff\">None</span>, <span style=\"color: #00af00; text-decoration-color: #00af00\">10</span>)                  │             <span style=\"color: #00af00; text-decoration-color: #00af00\">110</span> │\n",
              "└──────────────────────────────────────┴─────────────────────────────┴─────────────────┘\n",
              "</pre>\n"
            ]
          },
          "metadata": {}
        },
        {
          "output_type": "display_data",
          "data": {
            "text/plain": [
              "\u001b[1m Total params: \u001b[0m\u001b[38;5;34m7,960\u001b[0m (31.09 KB)\n"
            ],
            "text/html": [
              "<pre style=\"white-space:pre;overflow-x:auto;line-height:normal;font-family:Menlo,'DejaVu Sans Mono',consolas,'Courier New',monospace\"><span style=\"font-weight: bold\"> Total params: </span><span style=\"color: #00af00; text-decoration-color: #00af00\">7,960</span> (31.09 KB)\n",
              "</pre>\n"
            ]
          },
          "metadata": {}
        },
        {
          "output_type": "display_data",
          "data": {
            "text/plain": [
              "\u001b[1m Trainable params: \u001b[0m\u001b[38;5;34m7,960\u001b[0m (31.09 KB)\n"
            ],
            "text/html": [
              "<pre style=\"white-space:pre;overflow-x:auto;line-height:normal;font-family:Menlo,'DejaVu Sans Mono',consolas,'Courier New',monospace\"><span style=\"font-weight: bold\"> Trainable params: </span><span style=\"color: #00af00; text-decoration-color: #00af00\">7,960</span> (31.09 KB)\n",
              "</pre>\n"
            ]
          },
          "metadata": {}
        },
        {
          "output_type": "display_data",
          "data": {
            "text/plain": [
              "\u001b[1m Non-trainable params: \u001b[0m\u001b[38;5;34m0\u001b[0m (0.00 B)\n"
            ],
            "text/html": [
              "<pre style=\"white-space:pre;overflow-x:auto;line-height:normal;font-family:Menlo,'DejaVu Sans Mono',consolas,'Courier New',monospace\"><span style=\"font-weight: bold\"> Non-trainable params: </span><span style=\"color: #00af00; text-decoration-color: #00af00\">0</span> (0.00 B)\n",
              "</pre>\n"
            ]
          },
          "metadata": {}
        },
        {
          "output_type": "display_data",
          "data": {
            "text/plain": [
              "\u001b[1mModel: \"sequential_1\"\u001b[0m\n"
            ],
            "text/html": [
              "<pre style=\"white-space:pre;overflow-x:auto;line-height:normal;font-family:Menlo,'DejaVu Sans Mono',consolas,'Courier New',monospace\"><span style=\"font-weight: bold\">Model: \"sequential_1\"</span>\n",
              "</pre>\n"
            ]
          },
          "metadata": {}
        },
        {
          "output_type": "display_data",
          "data": {
            "text/plain": [
              "┏━━━━━━━━━━━━━━━━━━━━━━━━━━━━━━━━━━━━━━┳━━━━━━━━━━━━━━━━━━━━━━━━━━━━━┳━━━━━━━━━━━━━━━━━┓\n",
              "┃\u001b[1m \u001b[0m\u001b[1mLayer (type)                        \u001b[0m\u001b[1m \u001b[0m┃\u001b[1m \u001b[0m\u001b[1mOutput Shape               \u001b[0m\u001b[1m \u001b[0m┃\u001b[1m \u001b[0m\u001b[1m        Param #\u001b[0m\u001b[1m \u001b[0m┃\n",
              "┡━━━━━━━━━━━━━━━━━━━━━━━━━━━━━━━━━━━━━━╇━━━━━━━━━━━━━━━━━━━━━━━━━━━━━╇━━━━━━━━━━━━━━━━━┩\n",
              "│ conv2d (\u001b[38;5;33mConv2D\u001b[0m)                      │ (\u001b[38;5;45mNone\u001b[0m, \u001b[38;5;34m24\u001b[0m, \u001b[38;5;34m24\u001b[0m, \u001b[38;5;34m10\u001b[0m)          │             \u001b[38;5;34m260\u001b[0m │\n",
              "├──────────────────────────────────────┼─────────────────────────────┼─────────────────┤\n",
              "│ flatten_1 (\u001b[38;5;33mFlatten\u001b[0m)                  │ (\u001b[38;5;45mNone\u001b[0m, \u001b[38;5;34m5760\u001b[0m)                │               \u001b[38;5;34m0\u001b[0m │\n",
              "├──────────────────────────────────────┼─────────────────────────────┼─────────────────┤\n",
              "│ dense_2 (\u001b[38;5;33mDense\u001b[0m)                      │ (\u001b[38;5;45mNone\u001b[0m, \u001b[38;5;34m10\u001b[0m)                  │          \u001b[38;5;34m57,610\u001b[0m │\n",
              "└──────────────────────────────────────┴─────────────────────────────┴─────────────────┘\n"
            ],
            "text/html": [
              "<pre style=\"white-space:pre;overflow-x:auto;line-height:normal;font-family:Menlo,'DejaVu Sans Mono',consolas,'Courier New',monospace\">┏━━━━━━━━━━━━━━━━━━━━━━━━━━━━━━━━━━━━━━┳━━━━━━━━━━━━━━━━━━━━━━━━━━━━━┳━━━━━━━━━━━━━━━━━┓\n",
              "┃<span style=\"font-weight: bold\"> Layer (type)                         </span>┃<span style=\"font-weight: bold\"> Output Shape                </span>┃<span style=\"font-weight: bold\">         Param # </span>┃\n",
              "┡━━━━━━━━━━━━━━━━━━━━━━━━━━━━━━━━━━━━━━╇━━━━━━━━━━━━━━━━━━━━━━━━━━━━━╇━━━━━━━━━━━━━━━━━┩\n",
              "│ conv2d (<span style=\"color: #0087ff; text-decoration-color: #0087ff\">Conv2D</span>)                      │ (<span style=\"color: #00d7ff; text-decoration-color: #00d7ff\">None</span>, <span style=\"color: #00af00; text-decoration-color: #00af00\">24</span>, <span style=\"color: #00af00; text-decoration-color: #00af00\">24</span>, <span style=\"color: #00af00; text-decoration-color: #00af00\">10</span>)          │             <span style=\"color: #00af00; text-decoration-color: #00af00\">260</span> │\n",
              "├──────────────────────────────────────┼─────────────────────────────┼─────────────────┤\n",
              "│ flatten_1 (<span style=\"color: #0087ff; text-decoration-color: #0087ff\">Flatten</span>)                  │ (<span style=\"color: #00d7ff; text-decoration-color: #00d7ff\">None</span>, <span style=\"color: #00af00; text-decoration-color: #00af00\">5760</span>)                │               <span style=\"color: #00af00; text-decoration-color: #00af00\">0</span> │\n",
              "├──────────────────────────────────────┼─────────────────────────────┼─────────────────┤\n",
              "│ dense_2 (<span style=\"color: #0087ff; text-decoration-color: #0087ff\">Dense</span>)                      │ (<span style=\"color: #00d7ff; text-decoration-color: #00d7ff\">None</span>, <span style=\"color: #00af00; text-decoration-color: #00af00\">10</span>)                  │          <span style=\"color: #00af00; text-decoration-color: #00af00\">57,610</span> │\n",
              "└──────────────────────────────────────┴─────────────────────────────┴─────────────────┘\n",
              "</pre>\n"
            ]
          },
          "metadata": {}
        },
        {
          "output_type": "display_data",
          "data": {
            "text/plain": [
              "\u001b[1m Total params: \u001b[0m\u001b[38;5;34m57,870\u001b[0m (226.05 KB)\n"
            ],
            "text/html": [
              "<pre style=\"white-space:pre;overflow-x:auto;line-height:normal;font-family:Menlo,'DejaVu Sans Mono',consolas,'Courier New',monospace\"><span style=\"font-weight: bold\"> Total params: </span><span style=\"color: #00af00; text-decoration-color: #00af00\">57,870</span> (226.05 KB)\n",
              "</pre>\n"
            ]
          },
          "metadata": {}
        },
        {
          "output_type": "display_data",
          "data": {
            "text/plain": [
              "\u001b[1m Trainable params: \u001b[0m\u001b[38;5;34m57,870\u001b[0m (226.05 KB)\n"
            ],
            "text/html": [
              "<pre style=\"white-space:pre;overflow-x:auto;line-height:normal;font-family:Menlo,'DejaVu Sans Mono',consolas,'Courier New',monospace\"><span style=\"font-weight: bold\"> Trainable params: </span><span style=\"color: #00af00; text-decoration-color: #00af00\">57,870</span> (226.05 KB)\n",
              "</pre>\n"
            ]
          },
          "metadata": {}
        },
        {
          "output_type": "display_data",
          "data": {
            "text/plain": [
              "\u001b[1m Non-trainable params: \u001b[0m\u001b[38;5;34m0\u001b[0m (0.00 B)\n"
            ],
            "text/html": [
              "<pre style=\"white-space:pre;overflow-x:auto;line-height:normal;font-family:Menlo,'DejaVu Sans Mono',consolas,'Courier New',monospace\"><span style=\"font-weight: bold\"> Non-trainable params: </span><span style=\"color: #00af00; text-decoration-color: #00af00\">0</span> (0.00 B)\n",
              "</pre>\n"
            ]
          },
          "metadata": {}
        }
      ]
    },
    {
      "cell_type": "code",
      "source": [
        "def create_dense_model_duplicated():\n",
        "    model = keras.Sequential([\n",
        "        keras.Input(shape=(28, 28, 1)),\n",
        "        keras.layers.Flatten(),\n",
        "        keras.layers.Dense(10, activation=\"tanh\"),\n",
        "        keras.layers.Dense(10, activation=\"tanh\"),  # Duplicated layer\n",
        "        keras.layers.Dense(10, activation=\"softmax\")\n",
        "    ])\n",
        "    return model"
      ],
      "metadata": {
        "id": "V6BSFzMFpRdO"
      },
      "execution_count": null,
      "outputs": []
    },
    {
      "cell_type": "code",
      "source": [
        "def create_conv_model_duplicated():\n",
        "    model = keras.Sequential([\n",
        "        keras.Input(shape=(28, 28, 1)),\n",
        "        keras.layers.Conv2D(10, kernel_size=(5, 5), strides=1, padding=\"valid\"),\n",
        "        keras.layers.Conv2D(10, kernel_size=(5, 5), strides=1, padding=\"valid\"),  # Duplicated layer\n",
        "        keras.layers.Flatten(),\n",
        "        keras.layers.Dense(10, activation=\"softmax\")\n",
        "    ])\n",
        "    return model"
      ],
      "metadata": {
        "id": "U5HLxNZlpSTo"
      },
      "execution_count": null,
      "outputs": []
    },
    {
      "cell_type": "code",
      "source": [
        "dense_model_duplicated = create_dense_model_duplicated()\n",
        "conv_model_duplicated = create_conv_model_duplicated()\n",
        "\n",
        "dense_params_duplicated = dense_model_duplicated.count_params()\n",
        "conv_params_duplicated = conv_model_duplicated.count_params()\n",
        "\n",
        "print(f\"Number of parameters in duplicated dense model: {dense_params_duplicated}\")\n",
        "print(f\"Number of parameters in duplicated convolutional model: {conv_params_duplicated}\")\n",
        "\n",
        "dense_model_duplicated.summary()\n",
        "conv_model_duplicated.summary()\n"
      ],
      "metadata": {
        "colab": {
          "base_uri": "https://localhost:8080/",
          "height": 548
        },
        "id": "IDwjDhY9pXRf",
        "outputId": "0dd63054-ab76-417d-ed50-4fb47b2be047"
      },
      "execution_count": null,
      "outputs": [
        {
          "output_type": "stream",
          "name": "stdout",
          "text": [
            "Number of parameters in duplicated dense model: 8070\n",
            "Number of parameters in duplicated convolutional model: 42780\n"
          ]
        },
        {
          "output_type": "display_data",
          "data": {
            "text/plain": [
              "\u001b[1mModel: \"sequential_2\"\u001b[0m\n"
            ],
            "text/html": [
              "<pre style=\"white-space:pre;overflow-x:auto;line-height:normal;font-family:Menlo,'DejaVu Sans Mono',consolas,'Courier New',monospace\"><span style=\"font-weight: bold\">Model: \"sequential_2\"</span>\n",
              "</pre>\n"
            ]
          },
          "metadata": {}
        },
        {
          "output_type": "display_data",
          "data": {
            "text/plain": [
              "┏━━━━━━━━━━━━━━━━━━━━━━━━━━━━━━━━━━━━━━┳━━━━━━━━━━━━━━━━━━━━━━━━━━━━━┳━━━━━━━━━━━━━━━━━┓\n",
              "┃\u001b[1m \u001b[0m\u001b[1mLayer (type)                        \u001b[0m\u001b[1m \u001b[0m┃\u001b[1m \u001b[0m\u001b[1mOutput Shape               \u001b[0m\u001b[1m \u001b[0m┃\u001b[1m \u001b[0m\u001b[1m        Param #\u001b[0m\u001b[1m \u001b[0m┃\n",
              "┡━━━━━━━━━━━━━━━━━━━━━━━━━━━━━━━━━━━━━━╇━━━━━━━━━━━━━━━━━━━━━━━━━━━━━╇━━━━━━━━━━━━━━━━━┩\n",
              "│ flatten_2 (\u001b[38;5;33mFlatten\u001b[0m)                  │ (\u001b[38;5;45mNone\u001b[0m, \u001b[38;5;34m784\u001b[0m)                 │               \u001b[38;5;34m0\u001b[0m │\n",
              "├──────────────────────────────────────┼─────────────────────────────┼─────────────────┤\n",
              "│ dense_3 (\u001b[38;5;33mDense\u001b[0m)                      │ (\u001b[38;5;45mNone\u001b[0m, \u001b[38;5;34m10\u001b[0m)                  │           \u001b[38;5;34m7,850\u001b[0m │\n",
              "├──────────────────────────────────────┼─────────────────────────────┼─────────────────┤\n",
              "│ dense_4 (\u001b[38;5;33mDense\u001b[0m)                      │ (\u001b[38;5;45mNone\u001b[0m, \u001b[38;5;34m10\u001b[0m)                  │             \u001b[38;5;34m110\u001b[0m │\n",
              "├──────────────────────────────────────┼─────────────────────────────┼─────────────────┤\n",
              "│ dense_5 (\u001b[38;5;33mDense\u001b[0m)                      │ (\u001b[38;5;45mNone\u001b[0m, \u001b[38;5;34m10\u001b[0m)                  │             \u001b[38;5;34m110\u001b[0m │\n",
              "└──────────────────────────────────────┴─────────────────────────────┴─────────────────┘\n"
            ],
            "text/html": [
              "<pre style=\"white-space:pre;overflow-x:auto;line-height:normal;font-family:Menlo,'DejaVu Sans Mono',consolas,'Courier New',monospace\">┏━━━━━━━━━━━━━━━━━━━━━━━━━━━━━━━━━━━━━━┳━━━━━━━━━━━━━━━━━━━━━━━━━━━━━┳━━━━━━━━━━━━━━━━━┓\n",
              "┃<span style=\"font-weight: bold\"> Layer (type)                         </span>┃<span style=\"font-weight: bold\"> Output Shape                </span>┃<span style=\"font-weight: bold\">         Param # </span>┃\n",
              "┡━━━━━━━━━━━━━━━━━━━━━━━━━━━━━━━━━━━━━━╇━━━━━━━━━━━━━━━━━━━━━━━━━━━━━╇━━━━━━━━━━━━━━━━━┩\n",
              "│ flatten_2 (<span style=\"color: #0087ff; text-decoration-color: #0087ff\">Flatten</span>)                  │ (<span style=\"color: #00d7ff; text-decoration-color: #00d7ff\">None</span>, <span style=\"color: #00af00; text-decoration-color: #00af00\">784</span>)                 │               <span style=\"color: #00af00; text-decoration-color: #00af00\">0</span> │\n",
              "├──────────────────────────────────────┼─────────────────────────────┼─────────────────┤\n",
              "│ dense_3 (<span style=\"color: #0087ff; text-decoration-color: #0087ff\">Dense</span>)                      │ (<span style=\"color: #00d7ff; text-decoration-color: #00d7ff\">None</span>, <span style=\"color: #00af00; text-decoration-color: #00af00\">10</span>)                  │           <span style=\"color: #00af00; text-decoration-color: #00af00\">7,850</span> │\n",
              "├──────────────────────────────────────┼─────────────────────────────┼─────────────────┤\n",
              "│ dense_4 (<span style=\"color: #0087ff; text-decoration-color: #0087ff\">Dense</span>)                      │ (<span style=\"color: #00d7ff; text-decoration-color: #00d7ff\">None</span>, <span style=\"color: #00af00; text-decoration-color: #00af00\">10</span>)                  │             <span style=\"color: #00af00; text-decoration-color: #00af00\">110</span> │\n",
              "├──────────────────────────────────────┼─────────────────────────────┼─────────────────┤\n",
              "│ dense_5 (<span style=\"color: #0087ff; text-decoration-color: #0087ff\">Dense</span>)                      │ (<span style=\"color: #00d7ff; text-decoration-color: #00d7ff\">None</span>, <span style=\"color: #00af00; text-decoration-color: #00af00\">10</span>)                  │             <span style=\"color: #00af00; text-decoration-color: #00af00\">110</span> │\n",
              "└──────────────────────────────────────┴─────────────────────────────┴─────────────────┘\n",
              "</pre>\n"
            ]
          },
          "metadata": {}
        },
        {
          "output_type": "display_data",
          "data": {
            "text/plain": [
              "\u001b[1m Total params: \u001b[0m\u001b[38;5;34m8,070\u001b[0m (31.52 KB)\n"
            ],
            "text/html": [
              "<pre style=\"white-space:pre;overflow-x:auto;line-height:normal;font-family:Menlo,'DejaVu Sans Mono',consolas,'Courier New',monospace\"><span style=\"font-weight: bold\"> Total params: </span><span style=\"color: #00af00; text-decoration-color: #00af00\">8,070</span> (31.52 KB)\n",
              "</pre>\n"
            ]
          },
          "metadata": {}
        },
        {
          "output_type": "display_data",
          "data": {
            "text/plain": [
              "\u001b[1m Trainable params: \u001b[0m\u001b[38;5;34m8,070\u001b[0m (31.52 KB)\n"
            ],
            "text/html": [
              "<pre style=\"white-space:pre;overflow-x:auto;line-height:normal;font-family:Menlo,'DejaVu Sans Mono',consolas,'Courier New',monospace\"><span style=\"font-weight: bold\"> Trainable params: </span><span style=\"color: #00af00; text-decoration-color: #00af00\">8,070</span> (31.52 KB)\n",
              "</pre>\n"
            ]
          },
          "metadata": {}
        },
        {
          "output_type": "display_data",
          "data": {
            "text/plain": [
              "\u001b[1m Non-trainable params: \u001b[0m\u001b[38;5;34m0\u001b[0m (0.00 B)\n"
            ],
            "text/html": [
              "<pre style=\"white-space:pre;overflow-x:auto;line-height:normal;font-family:Menlo,'DejaVu Sans Mono',consolas,'Courier New',monospace\"><span style=\"font-weight: bold\"> Non-trainable params: </span><span style=\"color: #00af00; text-decoration-color: #00af00\">0</span> (0.00 B)\n",
              "</pre>\n"
            ]
          },
          "metadata": {}
        },
        {
          "output_type": "display_data",
          "data": {
            "text/plain": [
              "\u001b[1mModel: \"sequential_3\"\u001b[0m\n"
            ],
            "text/html": [
              "<pre style=\"white-space:pre;overflow-x:auto;line-height:normal;font-family:Menlo,'DejaVu Sans Mono',consolas,'Courier New',monospace\"><span style=\"font-weight: bold\">Model: \"sequential_3\"</span>\n",
              "</pre>\n"
            ]
          },
          "metadata": {}
        },
        {
          "output_type": "display_data",
          "data": {
            "text/plain": [
              "┏━━━━━━━━━━━━━━━━━━━━━━━━━━━━━━━━━━━━━━┳━━━━━━━━━━━━━━━━━━━━━━━━━━━━━┳━━━━━━━━━━━━━━━━━┓\n",
              "┃\u001b[1m \u001b[0m\u001b[1mLayer (type)                        \u001b[0m\u001b[1m \u001b[0m┃\u001b[1m \u001b[0m\u001b[1mOutput Shape               \u001b[0m\u001b[1m \u001b[0m┃\u001b[1m \u001b[0m\u001b[1m        Param #\u001b[0m\u001b[1m \u001b[0m┃\n",
              "┡━━━━━━━━━━━━━━━━━━━━━━━━━━━━━━━━━━━━━━╇━━━━━━━━━━━━━━━━━━━━━━━━━━━━━╇━━━━━━━━━━━━━━━━━┩\n",
              "│ conv2d_1 (\u001b[38;5;33mConv2D\u001b[0m)                    │ (\u001b[38;5;45mNone\u001b[0m, \u001b[38;5;34m24\u001b[0m, \u001b[38;5;34m24\u001b[0m, \u001b[38;5;34m10\u001b[0m)          │             \u001b[38;5;34m260\u001b[0m │\n",
              "├──────────────────────────────────────┼─────────────────────────────┼─────────────────┤\n",
              "│ conv2d_2 (\u001b[38;5;33mConv2D\u001b[0m)                    │ (\u001b[38;5;45mNone\u001b[0m, \u001b[38;5;34m20\u001b[0m, \u001b[38;5;34m20\u001b[0m, \u001b[38;5;34m10\u001b[0m)          │           \u001b[38;5;34m2,510\u001b[0m │\n",
              "├──────────────────────────────────────┼─────────────────────────────┼─────────────────┤\n",
              "│ flatten_3 (\u001b[38;5;33mFlatten\u001b[0m)                  │ (\u001b[38;5;45mNone\u001b[0m, \u001b[38;5;34m4000\u001b[0m)                │               \u001b[38;5;34m0\u001b[0m │\n",
              "├──────────────────────────────────────┼─────────────────────────────┼─────────────────┤\n",
              "│ dense_6 (\u001b[38;5;33mDense\u001b[0m)                      │ (\u001b[38;5;45mNone\u001b[0m, \u001b[38;5;34m10\u001b[0m)                  │          \u001b[38;5;34m40,010\u001b[0m │\n",
              "└──────────────────────────────────────┴─────────────────────────────┴─────────────────┘\n"
            ],
            "text/html": [
              "<pre style=\"white-space:pre;overflow-x:auto;line-height:normal;font-family:Menlo,'DejaVu Sans Mono',consolas,'Courier New',monospace\">┏━━━━━━━━━━━━━━━━━━━━━━━━━━━━━━━━━━━━━━┳━━━━━━━━━━━━━━━━━━━━━━━━━━━━━┳━━━━━━━━━━━━━━━━━┓\n",
              "┃<span style=\"font-weight: bold\"> Layer (type)                         </span>┃<span style=\"font-weight: bold\"> Output Shape                </span>┃<span style=\"font-weight: bold\">         Param # </span>┃\n",
              "┡━━━━━━━━━━━━━━━━━━━━━━━━━━━━━━━━━━━━━━╇━━━━━━━━━━━━━━━━━━━━━━━━━━━━━╇━━━━━━━━━━━━━━━━━┩\n",
              "│ conv2d_1 (<span style=\"color: #0087ff; text-decoration-color: #0087ff\">Conv2D</span>)                    │ (<span style=\"color: #00d7ff; text-decoration-color: #00d7ff\">None</span>, <span style=\"color: #00af00; text-decoration-color: #00af00\">24</span>, <span style=\"color: #00af00; text-decoration-color: #00af00\">24</span>, <span style=\"color: #00af00; text-decoration-color: #00af00\">10</span>)          │             <span style=\"color: #00af00; text-decoration-color: #00af00\">260</span> │\n",
              "├──────────────────────────────────────┼─────────────────────────────┼─────────────────┤\n",
              "│ conv2d_2 (<span style=\"color: #0087ff; text-decoration-color: #0087ff\">Conv2D</span>)                    │ (<span style=\"color: #00d7ff; text-decoration-color: #00d7ff\">None</span>, <span style=\"color: #00af00; text-decoration-color: #00af00\">20</span>, <span style=\"color: #00af00; text-decoration-color: #00af00\">20</span>, <span style=\"color: #00af00; text-decoration-color: #00af00\">10</span>)          │           <span style=\"color: #00af00; text-decoration-color: #00af00\">2,510</span> │\n",
              "├──────────────────────────────────────┼─────────────────────────────┼─────────────────┤\n",
              "│ flatten_3 (<span style=\"color: #0087ff; text-decoration-color: #0087ff\">Flatten</span>)                  │ (<span style=\"color: #00d7ff; text-decoration-color: #00d7ff\">None</span>, <span style=\"color: #00af00; text-decoration-color: #00af00\">4000</span>)                │               <span style=\"color: #00af00; text-decoration-color: #00af00\">0</span> │\n",
              "├──────────────────────────────────────┼─────────────────────────────┼─────────────────┤\n",
              "│ dense_6 (<span style=\"color: #0087ff; text-decoration-color: #0087ff\">Dense</span>)                      │ (<span style=\"color: #00d7ff; text-decoration-color: #00d7ff\">None</span>, <span style=\"color: #00af00; text-decoration-color: #00af00\">10</span>)                  │          <span style=\"color: #00af00; text-decoration-color: #00af00\">40,010</span> │\n",
              "└──────────────────────────────────────┴─────────────────────────────┴─────────────────┘\n",
              "</pre>\n"
            ]
          },
          "metadata": {}
        },
        {
          "output_type": "display_data",
          "data": {
            "text/plain": [
              "\u001b[1m Total params: \u001b[0m\u001b[38;5;34m42,780\u001b[0m (167.11 KB)\n"
            ],
            "text/html": [
              "<pre style=\"white-space:pre;overflow-x:auto;line-height:normal;font-family:Menlo,'DejaVu Sans Mono',consolas,'Courier New',monospace\"><span style=\"font-weight: bold\"> Total params: </span><span style=\"color: #00af00; text-decoration-color: #00af00\">42,780</span> (167.11 KB)\n",
              "</pre>\n"
            ]
          },
          "metadata": {}
        },
        {
          "output_type": "display_data",
          "data": {
            "text/plain": [
              "\u001b[1m Trainable params: \u001b[0m\u001b[38;5;34m42,780\u001b[0m (167.11 KB)\n"
            ],
            "text/html": [
              "<pre style=\"white-space:pre;overflow-x:auto;line-height:normal;font-family:Menlo,'DejaVu Sans Mono',consolas,'Courier New',monospace\"><span style=\"font-weight: bold\"> Trainable params: </span><span style=\"color: #00af00; text-decoration-color: #00af00\">42,780</span> (167.11 KB)\n",
              "</pre>\n"
            ]
          },
          "metadata": {}
        },
        {
          "output_type": "display_data",
          "data": {
            "text/plain": [
              "\u001b[1m Non-trainable params: \u001b[0m\u001b[38;5;34m0\u001b[0m (0.00 B)\n"
            ],
            "text/html": [
              "<pre style=\"white-space:pre;overflow-x:auto;line-height:normal;font-family:Menlo,'DejaVu Sans Mono',consolas,'Courier New',monospace\"><span style=\"font-weight: bold\"> Non-trainable params: </span><span style=\"color: #00af00; text-decoration-color: #00af00\">0</span> (0.00 B)\n",
              "</pre>\n"
            ]
          },
          "metadata": {}
        }
      ]
    },
    {
      "cell_type": "markdown",
      "source": [
        "## Question 3"
      ],
      "metadata": {
        "id": "K6h5FZxS5fFG"
      }
    },
    {
      "cell_type": "code",
      "source": [
        "def create_conv_model_q3():\n",
        "    model = keras.Sequential([\n",
        "        keras.Input(shape=(28, 28, 1)),\n",
        "        keras.layers.Conv2D(10, kernel_size=(5, 5), strides=1, padding=\"valid\"),\n",
        "        keras.layers.Conv2D(10, kernel_size=(5, 5), strides=1, padding=\"valid\"),\n",
        "        keras.layers.Conv2D(10, kernel_size=(5, 5), strides=1, padding=\"valid\"),\n",
        "        keras.layers.Conv2D(10, kernel_size=(5, 5), strides=1, padding=\"valid\"),\n",
        "        keras.layers.Conv2D(10, kernel_size=(5, 5), strides=1, padding=\"valid\"),\n",
        "        keras.layers.Conv2D(10, kernel_size=(5, 5), strides=1, padding=\"valid\"),\n",
        "        keras.layers.Conv2D(10, kernel_size=(5, 5), strides=1, padding=\"valid\"),\n",
        "        keras.layers.Conv2D(10, kernel_size=(5, 5), strides=1, padding=\"valid\"),\n",
        "        keras.layers.Flatten(),\n",
        "        keras.layers.Dense(10, activation=\"softmax\")\n",
        "    ])\n",
        "    return model"
      ],
      "metadata": {
        "id": "ICB0vfuF5eut"
      },
      "execution_count": null,
      "outputs": []
    },
    {
      "cell_type": "code",
      "source": [
        "model3 = create_conv_model_q3()\n",
        "model3.summary()"
      ],
      "metadata": {
        "colab": {
          "base_uri": "https://localhost:8080/",
          "height": 397
        },
        "id": "pbLtoS4t5vZN",
        "outputId": "1710f05a-78a9-4fb0-ed83-4a9319e04d0f"
      },
      "execution_count": null,
      "outputs": [
        {
          "output_type": "display_data",
          "data": {
            "text/plain": [
              "\u001b[1mModel: \"sequential_1\"\u001b[0m\n"
            ],
            "text/html": [
              "<pre style=\"white-space:pre;overflow-x:auto;line-height:normal;font-family:Menlo,'DejaVu Sans Mono',consolas,'Courier New',monospace\"><span style=\"font-weight: bold\">Model: \"sequential_1\"</span>\n",
              "</pre>\n"
            ]
          },
          "metadata": {}
        },
        {
          "output_type": "display_data",
          "data": {
            "text/plain": [
              "┏━━━━━━━━━━━━━━━━━━━━━━━━━━━━━━━━━━━━━━┳━━━━━━━━━━━━━━━━━━━━━━━━━━━━━┳━━━━━━━━━━━━━━━━━┓\n",
              "┃\u001b[1m \u001b[0m\u001b[1mLayer (type)                        \u001b[0m\u001b[1m \u001b[0m┃\u001b[1m \u001b[0m\u001b[1mOutput Shape               \u001b[0m\u001b[1m \u001b[0m┃\u001b[1m \u001b[0m\u001b[1m        Param #\u001b[0m\u001b[1m \u001b[0m┃\n",
              "┡━━━━━━━━━━━━━━━━━━━━━━━━━━━━━━━━━━━━━━╇━━━━━━━━━━━━━━━━━━━━━━━━━━━━━╇━━━━━━━━━━━━━━━━━┩\n",
              "│ conv2d_2 (\u001b[38;5;33mConv2D\u001b[0m)                    │ (\u001b[38;5;45mNone\u001b[0m, \u001b[38;5;34m24\u001b[0m, \u001b[38;5;34m24\u001b[0m, \u001b[38;5;34m10\u001b[0m)          │             \u001b[38;5;34m260\u001b[0m │\n",
              "├──────────────────────────────────────┼─────────────────────────────┼─────────────────┤\n",
              "│ conv2d_3 (\u001b[38;5;33mConv2D\u001b[0m)                    │ (\u001b[38;5;45mNone\u001b[0m, \u001b[38;5;34m20\u001b[0m, \u001b[38;5;34m20\u001b[0m, \u001b[38;5;34m10\u001b[0m)          │           \u001b[38;5;34m2,510\u001b[0m │\n",
              "├──────────────────────────────────────┼─────────────────────────────┼─────────────────┤\n",
              "│ conv2d_4 (\u001b[38;5;33mConv2D\u001b[0m)                    │ (\u001b[38;5;45mNone\u001b[0m, \u001b[38;5;34m16\u001b[0m, \u001b[38;5;34m16\u001b[0m, \u001b[38;5;34m10\u001b[0m)          │           \u001b[38;5;34m2,510\u001b[0m │\n",
              "├──────────────────────────────────────┼─────────────────────────────┼─────────────────┤\n",
              "│ conv2d_5 (\u001b[38;5;33mConv2D\u001b[0m)                    │ (\u001b[38;5;45mNone\u001b[0m, \u001b[38;5;34m12\u001b[0m, \u001b[38;5;34m12\u001b[0m, \u001b[38;5;34m10\u001b[0m)          │           \u001b[38;5;34m2,510\u001b[0m │\n",
              "├──────────────────────────────────────┼─────────────────────────────┼─────────────────┤\n",
              "│ conv2d_6 (\u001b[38;5;33mConv2D\u001b[0m)                    │ (\u001b[38;5;45mNone\u001b[0m, \u001b[38;5;34m8\u001b[0m, \u001b[38;5;34m8\u001b[0m, \u001b[38;5;34m10\u001b[0m)            │           \u001b[38;5;34m2,510\u001b[0m │\n",
              "├──────────────────────────────────────┼─────────────────────────────┼─────────────────┤\n",
              "│ conv2d_7 (\u001b[38;5;33mConv2D\u001b[0m)                    │ (\u001b[38;5;45mNone\u001b[0m, \u001b[38;5;34m4\u001b[0m, \u001b[38;5;34m4\u001b[0m, \u001b[38;5;34m10\u001b[0m)            │           \u001b[38;5;34m2,510\u001b[0m │\n",
              "├──────────────────────────────────────┼─────────────────────────────┼─────────────────┤\n",
              "│ flatten_1 (\u001b[38;5;33mFlatten\u001b[0m)                  │ (\u001b[38;5;45mNone\u001b[0m, \u001b[38;5;34m160\u001b[0m)                 │               \u001b[38;5;34m0\u001b[0m │\n",
              "├──────────────────────────────────────┼─────────────────────────────┼─────────────────┤\n",
              "│ dense_1 (\u001b[38;5;33mDense\u001b[0m)                      │ (\u001b[38;5;45mNone\u001b[0m, \u001b[38;5;34m10\u001b[0m)                  │           \u001b[38;5;34m1,610\u001b[0m │\n",
              "└──────────────────────────────────────┴─────────────────────────────┴─────────────────┘\n"
            ],
            "text/html": [
              "<pre style=\"white-space:pre;overflow-x:auto;line-height:normal;font-family:Menlo,'DejaVu Sans Mono',consolas,'Courier New',monospace\">┏━━━━━━━━━━━━━━━━━━━━━━━━━━━━━━━━━━━━━━┳━━━━━━━━━━━━━━━━━━━━━━━━━━━━━┳━━━━━━━━━━━━━━━━━┓\n",
              "┃<span style=\"font-weight: bold\"> Layer (type)                         </span>┃<span style=\"font-weight: bold\"> Output Shape                </span>┃<span style=\"font-weight: bold\">         Param # </span>┃\n",
              "┡━━━━━━━━━━━━━━━━━━━━━━━━━━━━━━━━━━━━━━╇━━━━━━━━━━━━━━━━━━━━━━━━━━━━━╇━━━━━━━━━━━━━━━━━┩\n",
              "│ conv2d_2 (<span style=\"color: #0087ff; text-decoration-color: #0087ff\">Conv2D</span>)                    │ (<span style=\"color: #00d7ff; text-decoration-color: #00d7ff\">None</span>, <span style=\"color: #00af00; text-decoration-color: #00af00\">24</span>, <span style=\"color: #00af00; text-decoration-color: #00af00\">24</span>, <span style=\"color: #00af00; text-decoration-color: #00af00\">10</span>)          │             <span style=\"color: #00af00; text-decoration-color: #00af00\">260</span> │\n",
              "├──────────────────────────────────────┼─────────────────────────────┼─────────────────┤\n",
              "│ conv2d_3 (<span style=\"color: #0087ff; text-decoration-color: #0087ff\">Conv2D</span>)                    │ (<span style=\"color: #00d7ff; text-decoration-color: #00d7ff\">None</span>, <span style=\"color: #00af00; text-decoration-color: #00af00\">20</span>, <span style=\"color: #00af00; text-decoration-color: #00af00\">20</span>, <span style=\"color: #00af00; text-decoration-color: #00af00\">10</span>)          │           <span style=\"color: #00af00; text-decoration-color: #00af00\">2,510</span> │\n",
              "├──────────────────────────────────────┼─────────────────────────────┼─────────────────┤\n",
              "│ conv2d_4 (<span style=\"color: #0087ff; text-decoration-color: #0087ff\">Conv2D</span>)                    │ (<span style=\"color: #00d7ff; text-decoration-color: #00d7ff\">None</span>, <span style=\"color: #00af00; text-decoration-color: #00af00\">16</span>, <span style=\"color: #00af00; text-decoration-color: #00af00\">16</span>, <span style=\"color: #00af00; text-decoration-color: #00af00\">10</span>)          │           <span style=\"color: #00af00; text-decoration-color: #00af00\">2,510</span> │\n",
              "├──────────────────────────────────────┼─────────────────────────────┼─────────────────┤\n",
              "│ conv2d_5 (<span style=\"color: #0087ff; text-decoration-color: #0087ff\">Conv2D</span>)                    │ (<span style=\"color: #00d7ff; text-decoration-color: #00d7ff\">None</span>, <span style=\"color: #00af00; text-decoration-color: #00af00\">12</span>, <span style=\"color: #00af00; text-decoration-color: #00af00\">12</span>, <span style=\"color: #00af00; text-decoration-color: #00af00\">10</span>)          │           <span style=\"color: #00af00; text-decoration-color: #00af00\">2,510</span> │\n",
              "├──────────────────────────────────────┼─────────────────────────────┼─────────────────┤\n",
              "│ conv2d_6 (<span style=\"color: #0087ff; text-decoration-color: #0087ff\">Conv2D</span>)                    │ (<span style=\"color: #00d7ff; text-decoration-color: #00d7ff\">None</span>, <span style=\"color: #00af00; text-decoration-color: #00af00\">8</span>, <span style=\"color: #00af00; text-decoration-color: #00af00\">8</span>, <span style=\"color: #00af00; text-decoration-color: #00af00\">10</span>)            │           <span style=\"color: #00af00; text-decoration-color: #00af00\">2,510</span> │\n",
              "├──────────────────────────────────────┼─────────────────────────────┼─────────────────┤\n",
              "│ conv2d_7 (<span style=\"color: #0087ff; text-decoration-color: #0087ff\">Conv2D</span>)                    │ (<span style=\"color: #00d7ff; text-decoration-color: #00d7ff\">None</span>, <span style=\"color: #00af00; text-decoration-color: #00af00\">4</span>, <span style=\"color: #00af00; text-decoration-color: #00af00\">4</span>, <span style=\"color: #00af00; text-decoration-color: #00af00\">10</span>)            │           <span style=\"color: #00af00; text-decoration-color: #00af00\">2,510</span> │\n",
              "├──────────────────────────────────────┼─────────────────────────────┼─────────────────┤\n",
              "│ flatten_1 (<span style=\"color: #0087ff; text-decoration-color: #0087ff\">Flatten</span>)                  │ (<span style=\"color: #00d7ff; text-decoration-color: #00d7ff\">None</span>, <span style=\"color: #00af00; text-decoration-color: #00af00\">160</span>)                 │               <span style=\"color: #00af00; text-decoration-color: #00af00\">0</span> │\n",
              "├──────────────────────────────────────┼─────────────────────────────┼─────────────────┤\n",
              "│ dense_1 (<span style=\"color: #0087ff; text-decoration-color: #0087ff\">Dense</span>)                      │ (<span style=\"color: #00d7ff; text-decoration-color: #00d7ff\">None</span>, <span style=\"color: #00af00; text-decoration-color: #00af00\">10</span>)                  │           <span style=\"color: #00af00; text-decoration-color: #00af00\">1,610</span> │\n",
              "└──────────────────────────────────────┴─────────────────────────────┴─────────────────┘\n",
              "</pre>\n"
            ]
          },
          "metadata": {}
        },
        {
          "output_type": "display_data",
          "data": {
            "text/plain": [
              "\u001b[1m Total params: \u001b[0m\u001b[38;5;34m14,420\u001b[0m (56.33 KB)\n"
            ],
            "text/html": [
              "<pre style=\"white-space:pre;overflow-x:auto;line-height:normal;font-family:Menlo,'DejaVu Sans Mono',consolas,'Courier New',monospace\"><span style=\"font-weight: bold\"> Total params: </span><span style=\"color: #00af00; text-decoration-color: #00af00\">14,420</span> (56.33 KB)\n",
              "</pre>\n"
            ]
          },
          "metadata": {}
        },
        {
          "output_type": "display_data",
          "data": {
            "text/plain": [
              "\u001b[1m Trainable params: \u001b[0m\u001b[38;5;34m14,420\u001b[0m (56.33 KB)\n"
            ],
            "text/html": [
              "<pre style=\"white-space:pre;overflow-x:auto;line-height:normal;font-family:Menlo,'DejaVu Sans Mono',consolas,'Courier New',monospace\"><span style=\"font-weight: bold\"> Trainable params: </span><span style=\"color: #00af00; text-decoration-color: #00af00\">14,420</span> (56.33 KB)\n",
              "</pre>\n"
            ]
          },
          "metadata": {}
        },
        {
          "output_type": "display_data",
          "data": {
            "text/plain": [
              "\u001b[1m Non-trainable params: \u001b[0m\u001b[38;5;34m0\u001b[0m (0.00 B)\n"
            ],
            "text/html": [
              "<pre style=\"white-space:pre;overflow-x:auto;line-height:normal;font-family:Menlo,'DejaVu Sans Mono',consolas,'Courier New',monospace\"><span style=\"font-weight: bold\"> Non-trainable params: </span><span style=\"color: #00af00; text-decoration-color: #00af00\">0</span> (0.00 B)\n",
              "</pre>\n"
            ]
          },
          "metadata": {}
        }
      ]
    },
    {
      "cell_type": "markdown",
      "source": [
        "# **Question 5**"
      ],
      "metadata": {
        "id": "OuuJzzNAsKcb"
      }
    },
    {
      "cell_type": "code",
      "source": [
        "# Function to pad randomly input examples\n",
        "def loc_noise(data, rnd=True):\n",
        "  shifted = np.zeros((data.shape[0],56,56))\n",
        "  for ex in range(len(data)):\n",
        "    ud = np.random.randint(0,28)\n",
        "    lr = np.random.randint(0,28)\n",
        "    padded = data[ex]\n",
        "    if rnd: padded = np.pad(data[ex], ((ud, 28-ud), (lr, 28-lr)))\n",
        "    else: padded = np.pad(data[ex], ((28,0),(28,0)))\n",
        "    shifted[ex] = padded\n",
        "  return shifted"
      ],
      "metadata": {
        "id": "7X01oZbvsTTE"
      },
      "execution_count": null,
      "outputs": []
    },
    {
      "cell_type": "code",
      "source": [
        "def loc_noise(x, y, rnd=False):\n",
        "    # x shape is (n, 28, 28, 1) for MNIST\n",
        "    n = x.shape[0]\n",
        "    x_aug = np.zeros((n, 56, 56, 1))\n",
        "\n",
        "    for i in range(n):\n",
        "        if rnd:\n",
        "            # Random placement within the 56x56 area\n",
        "            top = np.random.randint(0, 29)  # 0 to 28\n",
        "            left = np.random.randint(0, 29)  # 0 to 28\n",
        "        else:\n",
        "            # Bottom-right placement\n",
        "            top = 28\n",
        "            left = 28\n",
        "\n",
        "        x_aug[i, top:top+28, left:left+28, :] = x[i]\n",
        "\n",
        "    return x_aug, y"
      ],
      "metadata": {
        "id": "D0B3tvHrB1M6"
      },
      "execution_count": null,
      "outputs": []
    },
    {
      "cell_type": "code",
      "source": [
        "# Define the VGG block\n",
        "def vgg_block(x):\n",
        "    x = keras.layers.Conv2D(8, kernel_size=(5, 5), strides=1, padding=\"same\", activation=\"relu\")(x)\n",
        "    x = keras.layers.Conv2D(8, kernel_size=(3, 3), strides=1, padding=\"same\", activation=\"relu\")(x)\n",
        "    x = keras.layers.MaxPooling2D(pool_size=(2, 2), strides=2)(x)\n",
        "    return x"
      ],
      "metadata": {
        "id": "NkuXDVg09Qk0"
      },
      "execution_count": null,
      "outputs": []
    },
    {
      "cell_type": "code",
      "source": [
        "# Basic model with one VGG block\n",
        "def create_basic_model(input_shape=(56, 56, 1), num_classes=10):\n",
        "    inputs = keras.Input(shape=input_shape)\n",
        "\n",
        "    # Single VGG block\n",
        "    x = vgg_block(inputs)\n",
        "\n",
        "    # Flatten layer\n",
        "    x = keras.layers.Flatten()(x)\n",
        "\n",
        "    # Output layer\n",
        "    outputs = keras.layers.Dense(num_classes, activation=\"softmax\")(x)\n",
        "\n",
        "    model = keras.Model(inputs, outputs)\n",
        "    return model"
      ],
      "metadata": {
        "id": "62ZrXtAs-5JI"
      },
      "execution_count": null,
      "outputs": []
    },
    {
      "cell_type": "code",
      "source": [
        "# Model with multiple VGG blocks\n",
        "def create_deep_model(input_shape=(56, 56, 1), num_classes=10, num_blocks=3):\n",
        "    inputs = keras.Input(shape=input_shape)\n",
        "\n",
        "    x = inputs\n",
        "    # Multiple VGG blocks\n",
        "    for _ in range(num_blocks):\n",
        "        x = vgg_block(x)\n",
        "\n",
        "    # Flatten layer\n",
        "    x = keras.layers.Flatten()(x)\n",
        "\n",
        "    # Output layer\n",
        "    outputs = keras.layers.Dense(num_classes, activation=\"softmax\")(x)\n",
        "\n",
        "    model = keras.Model(inputs, outputs)\n",
        "    return model"
      ],
      "metadata": {
        "id": "AvAgaOF1_sEL"
      },
      "execution_count": null,
      "outputs": []
    },
    {
      "cell_type": "code",
      "source": [
        "# Start over with fresh data before adding noise\n",
        "(x_train, y_train), (x_test, y_test) = keras.datasets.mnist.load_data()\n",
        "\n",
        "\n",
        "# Scale images to the [0, 1] range\n",
        "x_train = x_train.reshape(-1, 28, 28, 1).astype(\"float32\") / 255.0\n",
        "x_test = x_test.reshape(-1, 28, 28, 1).astype(\"float32\") / 255.0\n",
        "\n",
        "# One-hot encode output labels\n",
        "y_train = keras.utils.to_categorical(y_train, num_classes)\n",
        "y_test = keras.utils.to_categorical(y_test, num_classes)"
      ],
      "metadata": {
        "id": "cRx4bc-T7pDd"
      },
      "execution_count": null,
      "outputs": []
    },
    {
      "cell_type": "code",
      "source": [
        "# Apply data augmentation\n",
        "x_train_aug, y_train_aug = loc_noise(x_train, y_train, rnd=False)  # Bottom-right placement for train\n",
        "x_test_aug, y_test_aug = loc_noise(x_test, y_test, rnd=True)  # Random placement for test"
      ],
      "metadata": {
        "id": "QtduCNzKAeNg"
      },
      "execution_count": null,
      "outputs": []
    },
    {
      "cell_type": "code",
      "source": [
        "# Model 1: Basic model with one VGG block\n",
        "model1 = create_basic_model()\n",
        "model1.compile(optimizer=\"adam\", loss=\"categorical_crossentropy\", metrics=[\"accuracy\"])\n",
        "\n",
        "print(\"Training basic model with one VGG block...\")\n",
        "model1.fit(x_train_aug, y_train_aug, epochs=10, batch_size=128, validation_split=0.1)\n",
        "\n",
        "# Evaluate on test set\n",
        "print(\"Evaluating basic model on test set...\")\n",
        "test_loss1, test_acc1 = model1.evaluate(x_test_aug, y_test_aug)\n",
        "print(f\"Test accuracy with one VGG block: {test_acc1:.4f}\")"
      ],
      "metadata": {
        "colab": {
          "base_uri": "https://localhost:8080/"
        },
        "id": "Pp6n4FjFAi0S",
        "outputId": "e2074bcd-4517-4edc-93a2-b613b33bfd4b"
      },
      "execution_count": null,
      "outputs": [
        {
          "output_type": "stream",
          "name": "stdout",
          "text": [
            "Training basic model with one VGG block...\n",
            "Epoch 1/10\n",
            "\u001b[1m422/422\u001b[0m \u001b[32m━━━━━━━━━━━━━━━━━━━━\u001b[0m\u001b[37m\u001b[0m \u001b[1m9s\u001b[0m 11ms/step - accuracy: 0.7892 - loss: 0.8002 - val_accuracy: 0.9703 - val_loss: 0.1162\n",
            "Epoch 2/10\n",
            "\u001b[1m422/422\u001b[0m \u001b[32m━━━━━━━━━━━━━━━━━━━━\u001b[0m\u001b[37m\u001b[0m \u001b[1m3s\u001b[0m 7ms/step - accuracy: 0.9630 - loss: 0.1247 - val_accuracy: 0.9780 - val_loss: 0.0810\n",
            "Epoch 3/10\n",
            "\u001b[1m422/422\u001b[0m \u001b[32m━━━━━━━━━━━━━━━━━━━━\u001b[0m\u001b[37m\u001b[0m \u001b[1m3s\u001b[0m 7ms/step - accuracy: 0.9721 - loss: 0.0923 - val_accuracy: 0.9812 - val_loss: 0.0672\n",
            "Epoch 4/10\n",
            "\u001b[1m422/422\u001b[0m \u001b[32m━━━━━━━━━━━━━━━━━━━━\u001b[0m\u001b[37m\u001b[0m \u001b[1m3s\u001b[0m 6ms/step - accuracy: 0.9776 - loss: 0.0730 - val_accuracy: 0.9832 - val_loss: 0.0611\n",
            "Epoch 5/10\n",
            "\u001b[1m422/422\u001b[0m \u001b[32m━━━━━━━━━━━━━━━━━━━━\u001b[0m\u001b[37m\u001b[0m \u001b[1m3s\u001b[0m 6ms/step - accuracy: 0.9797 - loss: 0.0654 - val_accuracy: 0.9848 - val_loss: 0.0624\n",
            "Epoch 6/10\n",
            "\u001b[1m422/422\u001b[0m \u001b[32m━━━━━━━━━━━━━━━━━━━━\u001b[0m\u001b[37m\u001b[0m \u001b[1m3s\u001b[0m 7ms/step - accuracy: 0.9829 - loss: 0.0558 - val_accuracy: 0.9850 - val_loss: 0.0565\n",
            "Epoch 7/10\n",
            "\u001b[1m422/422\u001b[0m \u001b[32m━━━━━━━━━━━━━━━━━━━━\u001b[0m\u001b[37m\u001b[0m \u001b[1m3s\u001b[0m 6ms/step - accuracy: 0.9849 - loss: 0.0493 - val_accuracy: 0.9843 - val_loss: 0.0538\n",
            "Epoch 8/10\n",
            "\u001b[1m422/422\u001b[0m \u001b[32m━━━━━━━━━━━━━━━━━━━━\u001b[0m\u001b[37m\u001b[0m \u001b[1m5s\u001b[0m 7ms/step - accuracy: 0.9871 - loss: 0.0420 - val_accuracy: 0.9873 - val_loss: 0.0506\n",
            "Epoch 9/10\n",
            "\u001b[1m422/422\u001b[0m \u001b[32m━━━━━━━━━━━━━━━━━━━━\u001b[0m\u001b[37m\u001b[0m \u001b[1m5s\u001b[0m 8ms/step - accuracy: 0.9869 - loss: 0.0419 - val_accuracy: 0.9835 - val_loss: 0.0629\n",
            "Epoch 10/10\n",
            "\u001b[1m422/422\u001b[0m \u001b[32m━━━━━━━━━━━━━━━━━━━━\u001b[0m\u001b[37m\u001b[0m \u001b[1m3s\u001b[0m 7ms/step - accuracy: 0.9886 - loss: 0.0400 - val_accuracy: 0.9873 - val_loss: 0.0515\n",
            "Evaluating basic model on test set...\n",
            "\u001b[1m313/313\u001b[0m \u001b[32m━━━━━━━━━━━━━━━━━━━━\u001b[0m\u001b[37m\u001b[0m \u001b[1m1s\u001b[0m 4ms/step - accuracy: 0.0911 - loss: 9.9408\n",
            "Test accuracy with one VGG block: 0.0973\n"
          ]
        }
      ]
    },
    {
      "cell_type": "code",
      "source": [
        "# Model 2: Deep model with multiple VGG blocks\n",
        "model2 = create_deep_model(num_blocks=3)\n",
        "model2.compile(optimizer=\"adam\", loss=\"categorical_crossentropy\", metrics=[\"accuracy\"])\n",
        "\n",
        "print(\"Training deep model with three VGG blocks...\")\n",
        "model2.fit(x_train_aug, y_train_aug, epochs=10, batch_size=128, validation_split=0.1)\n",
        "\n",
        "# Evaluate on test set\n",
        "print(\"Evaluating deep model on test set...\")\n",
        "test_loss2, test_acc2 = model2.evaluate(x_test_aug, y_test_aug)\n",
        "print(f\"Test accuracy with three VGG blocks: {test_acc2:.4f}\")"
      ],
      "metadata": {
        "colab": {
          "base_uri": "https://localhost:8080/"
        },
        "id": "i1MBTeXS_7nt",
        "outputId": "63a7759d-3d4c-4d67-9fd3-980f37c85a10"
      },
      "execution_count": null,
      "outputs": [
        {
          "output_type": "stream",
          "name": "stdout",
          "text": [
            "Training deep model with three VGG blocks...\n",
            "Epoch 1/10\n",
            "\u001b[1m422/422\u001b[0m \u001b[32m━━━━━━━━━━━━━━━━━━━━\u001b[0m\u001b[37m\u001b[0m \u001b[1m11s\u001b[0m 18ms/step - accuracy: 0.6682 - loss: 1.0069 - val_accuracy: 0.9598 - val_loss: 0.1360\n",
            "Epoch 2/10\n",
            "\u001b[1m422/422\u001b[0m \u001b[32m━━━━━━━━━━━━━━━━━━━━\u001b[0m\u001b[37m\u001b[0m \u001b[1m4s\u001b[0m 9ms/step - accuracy: 0.9529 - loss: 0.1543 - val_accuracy: 0.9677 - val_loss: 0.1180\n",
            "Epoch 3/10\n",
            "\u001b[1m422/422\u001b[0m \u001b[32m━━━━━━━━━━━━━━━━━━━━\u001b[0m\u001b[37m\u001b[0m \u001b[1m6s\u001b[0m 10ms/step - accuracy: 0.9672 - loss: 0.1060 - val_accuracy: 0.9720 - val_loss: 0.0901\n",
            "Epoch 4/10\n",
            "\u001b[1m422/422\u001b[0m \u001b[32m━━━━━━━━━━━━━━━━━━━━\u001b[0m\u001b[37m\u001b[0m \u001b[1m5s\u001b[0m 9ms/step - accuracy: 0.9748 - loss: 0.0814 - val_accuracy: 0.9785 - val_loss: 0.0729\n",
            "Epoch 5/10\n",
            "\u001b[1m422/422\u001b[0m \u001b[32m━━━━━━━━━━━━━━━━━━━━\u001b[0m\u001b[37m\u001b[0m \u001b[1m5s\u001b[0m 10ms/step - accuracy: 0.9791 - loss: 0.0693 - val_accuracy: 0.9807 - val_loss: 0.0682\n",
            "Epoch 6/10\n",
            "\u001b[1m422/422\u001b[0m \u001b[32m━━━━━━━━━━━━━━━━━━━━\u001b[0m\u001b[37m\u001b[0m \u001b[1m4s\u001b[0m 10ms/step - accuracy: 0.9820 - loss: 0.0591 - val_accuracy: 0.9835 - val_loss: 0.0594\n",
            "Epoch 7/10\n",
            "\u001b[1m422/422\u001b[0m \u001b[32m━━━━━━━━━━━━━━━━━━━━\u001b[0m\u001b[37m\u001b[0m \u001b[1m4s\u001b[0m 9ms/step - accuracy: 0.9839 - loss: 0.0509 - val_accuracy: 0.9852 - val_loss: 0.0508\n",
            "Epoch 8/10\n",
            "\u001b[1m422/422\u001b[0m \u001b[32m━━━━━━━━━━━━━━━━━━━━\u001b[0m\u001b[37m\u001b[0m \u001b[1m7s\u001b[0m 13ms/step - accuracy: 0.9858 - loss: 0.0446 - val_accuracy: 0.9847 - val_loss: 0.0509\n",
            "Epoch 9/10\n",
            "\u001b[1m422/422\u001b[0m \u001b[32m━━━━━━━━━━━━━━━━━━━━\u001b[0m\u001b[37m\u001b[0m \u001b[1m4s\u001b[0m 9ms/step - accuracy: 0.9870 - loss: 0.0414 - val_accuracy: 0.9855 - val_loss: 0.0543\n",
            "Epoch 10/10\n",
            "\u001b[1m422/422\u001b[0m \u001b[32m━━━━━━━━━━━━━━━━━━━━\u001b[0m\u001b[37m\u001b[0m \u001b[1m4s\u001b[0m 9ms/step - accuracy: 0.9888 - loss: 0.0364 - val_accuracy: 0.9857 - val_loss: 0.0554\n",
            "Evaluating deep model on test set...\n",
            "\u001b[1m313/313\u001b[0m \u001b[32m━━━━━━━━━━━━━━━━━━━━\u001b[0m\u001b[37m\u001b[0m \u001b[1m2s\u001b[0m 5ms/step - accuracy: 0.1042 - loss: 17.2772\n",
            "Test accuracy with three VGG blocks: 0.1097\n"
          ]
        }
      ]
    },
    {
      "cell_type": "markdown",
      "source": [
        "# **Question 6**"
      ],
      "metadata": {
        "id": "YI5yCGK3sao3"
      }
    },
    {
      "cell_type": "code",
      "source": [
        "# Define the ResNet block using functional API\n",
        "def resnet_block(x):\n",
        "    # First convolution\n",
        "    conv1 = keras.layers.Conv2D(8, kernel_size=(5, 5), strides=1, padding=\"same\", activation=\"relu\")(x)\n",
        "\n",
        "    # Second convolution with no activation\n",
        "    conv2 = keras.layers.Conv2D(8, kernel_size=(5, 5), strides=1, padding=\"same\")(conv1)\n",
        "\n",
        "    # Skip connection with 1x1 convolution\n",
        "    skip = keras.layers.Conv2D(8, kernel_size=(1, 1), strides=1, padding=\"same\", activation=\"relu\")(x)\n",
        "\n",
        "    # Add the second convolution and skip connection\n",
        "    added = keras.layers.add([conv2, skip])\n",
        "\n",
        "    # Apply activation after addition\n",
        "    output = keras.layers.Activation(\"relu\")(added)\n",
        "\n",
        "    return output"
      ],
      "metadata": {
        "id": "RSzn5uQksaRj"
      },
      "execution_count": null,
      "outputs": []
    },
    {
      "cell_type": "code",
      "source": [
        "# Create ResNet model with three ResNet blocks\n",
        "def create_resnet_model(input_shape=(56, 56, 1), num_classes=10):\n",
        "    inputs = keras.Input(shape=input_shape)\n",
        "\n",
        "    # First ResNet block\n",
        "    x = resnet_block(inputs)\n",
        "    x = keras.layers.MaxPooling2D(pool_size=(2, 2), strides=2)(x)\n",
        "\n",
        "    # Second ResNet block\n",
        "    x = resnet_block(x)\n",
        "    x = keras.layers.MaxPooling2D(pool_size=(2, 2), strides=2)(x)\n",
        "\n",
        "    # Third ResNet block\n",
        "    x = resnet_block(x)\n",
        "    x = keras.layers.MaxPooling2D(pool_size=(2, 2), strides=2)(x)\n",
        "\n",
        "    # Flatten and output layers\n",
        "    x = keras.layers.Flatten()(x)\n",
        "    outputs = keras.layers.Dense(num_classes, activation=\"softmax\")(x)\n",
        "\n",
        "    model = keras.Model(inputs, outputs)\n",
        "    return model"
      ],
      "metadata": {
        "id": "iQXxqwrcHF5S"
      },
      "execution_count": null,
      "outputs": []
    },
    {
      "cell_type": "code",
      "source": [
        "# VGG block (from previous implementation)\n",
        "def vgg_block(x):\n",
        "    x = keras.layers.Conv2D(8, kernel_size=(5, 5), strides=1, padding=\"same\", activation=\"relu\")(x)\n",
        "    x = keras.layers.Conv2D(8, kernel_size=(3, 3), strides=1, padding=\"same\", activation=\"relu\")(x)\n",
        "    x = keras.layers.MaxPooling2D(pool_size=(2, 2), strides=2)(x)\n",
        "    return x\n",
        "\n",
        "# Create VGG model with three VGG blocks\n",
        "def create_vgg_model(input_shape=(56, 56, 1), num_classes=10):\n",
        "    inputs = keras.Input(shape=input_shape)\n",
        "\n",
        "    # Three VGG blocks\n",
        "    x = vgg_block(inputs)\n",
        "    x = vgg_block(x)\n",
        "    x = vgg_block(x)\n",
        "\n",
        "    # Flatten and output layers\n",
        "    x = keras.layers.Flatten()(x)\n",
        "    outputs = keras.layers.Dense(num_classes, activation=\"softmax\")(x)\n",
        "\n",
        "    model = keras.Model(inputs, outputs)\n",
        "    return model"
      ],
      "metadata": {
        "id": "mtpv2TvEKeF2"
      },
      "execution_count": null,
      "outputs": []
    },
    {
      "cell_type": "code",
      "source": [
        "# Training and evaluation code\n",
        "def compare_models():\n",
        "    # Load and prepare the data\n",
        "    (x_train, y_train), (x_test, y_test) = keras.datasets.mnist.load_data()\n",
        "\n",
        "    # Reshape and normalize\n",
        "    x_train = x_train.reshape(-1, 28, 28, 1).astype(\"float32\") / 255.0\n",
        "    x_test = x_test.reshape(-1, 28, 28, 1).astype(\"float32\") / 255.0\n",
        "\n",
        "    # Convert labels to one-hot encoded vectors\n",
        "    y_train = keras.utils.to_categorical(y_train, 10)\n",
        "    y_test = keras.utils.to_categorical(y_test, 10)\n",
        "\n",
        "    # Apply data augmentation\n",
        "    x_train_aug, y_train_aug = loc_noise(x_train, y_train, rnd=False)  # Bottom-right placement for train\n",
        "    x_test_aug, y_test_aug = loc_noise(x_test, y_test, rnd=True)  # Random placement for test\n",
        "\n",
        "    # Create and compile VGG model\n",
        "    vgg_model = create_vgg_model()\n",
        "    vgg_model.compile(optimizer=\"adam\", loss=\"categorical_crossentropy\", metrics=[\"accuracy\"])\n",
        "\n",
        "    # Train VGG model\n",
        "    print(\"Training VGG model...\")\n",
        "    vgg_history = vgg_model.fit(\n",
        "        x_train_aug, y_train_aug,\n",
        "        epochs=10,\n",
        "        batch_size=128,\n",
        "        validation_split=0.1,\n",
        "        verbose=1\n",
        "    )\n",
        "\n",
        "    # Evaluate VGG model on test set\n",
        "    vgg_test_loss, vgg_test_acc = vgg_model.evaluate(x_test_aug, y_test_aug)\n",
        "    print(f\"VGG model test accuracy: {vgg_test_acc:.4f}\")\n",
        "\n",
        "    # Create and compile ResNet model\n",
        "    resnet_model = create_resnet_model()\n",
        "    resnet_model.compile(optimizer=\"adam\", loss=\"categorical_crossentropy\", metrics=[\"accuracy\"])\n",
        "\n",
        "    # Train ResNet model\n",
        "    print(\"Training ResNet model...\")\n",
        "    resnet_history = resnet_model.fit(\n",
        "        x_train_aug, y_train_aug,\n",
        "        epochs=10,\n",
        "        batch_size=128,\n",
        "        validation_split=0.1,\n",
        "        verbose=1\n",
        "    )\n",
        "\n",
        "    # Evaluate ResNet model on test set\n",
        "    resnet_test_loss, resnet_test_acc = resnet_model.evaluate(x_test_aug, y_test_aug)\n",
        "    print(f\"ResNet model test accuracy: {resnet_test_acc:.4f}\")\n",
        "\n",
        "    # Compare results\n",
        "    print(f\"\\nPerformance comparison:\")\n",
        "    print(f\"VGG model accuracy: {vgg_test_acc:.4f}\")\n",
        "    print(f\"ResNet model accuracy: {resnet_test_acc:.4f}\")\n",
        "    print(f\"Difference (ResNet - VGG): {resnet_test_acc - vgg_test_acc:.4f}\")\n",
        "\n",
        "if __name__ == \"__main__\":\n",
        "    compare_models()"
      ],
      "metadata": {
        "colab": {
          "base_uri": "https://localhost:8080/"
        },
        "id": "XErEy9icHMRE",
        "outputId": "8b8c3942-a2a3-4fdf-c74d-4e91e47628ad"
      },
      "execution_count": null,
      "outputs": [
        {
          "output_type": "stream",
          "name": "stdout",
          "text": [
            "Training VGG model...\n",
            "Epoch 1/10\n",
            "\u001b[1m422/422\u001b[0m \u001b[32m━━━━━━━━━━━━━━━━━━━━\u001b[0m\u001b[37m\u001b[0m \u001b[1m10s\u001b[0m 15ms/step - accuracy: 0.6723 - loss: 0.9503 - val_accuracy: 0.9630 - val_loss: 0.1259\n",
            "Epoch 2/10\n",
            "\u001b[1m422/422\u001b[0m \u001b[32m━━━━━━━━━━━━━━━━━━━━\u001b[0m\u001b[37m\u001b[0m \u001b[1m7s\u001b[0m 9ms/step - accuracy: 0.9589 - loss: 0.1320 - val_accuracy: 0.9792 - val_loss: 0.0742\n",
            "Epoch 3/10\n",
            "\u001b[1m422/422\u001b[0m \u001b[32m━━━━━━━━━━━━━━━━━━━━\u001b[0m\u001b[37m\u001b[0m \u001b[1m5s\u001b[0m 9ms/step - accuracy: 0.9716 - loss: 0.0921 - val_accuracy: 0.9740 - val_loss: 0.0873\n",
            "Epoch 4/10\n",
            "\u001b[1m422/422\u001b[0m \u001b[32m━━━━━━━━━━━━━━━━━━━━\u001b[0m\u001b[37m\u001b[0m \u001b[1m4s\u001b[0m 9ms/step - accuracy: 0.9757 - loss: 0.0780 - val_accuracy: 0.9840 - val_loss: 0.0561\n",
            "Epoch 5/10\n",
            "\u001b[1m422/422\u001b[0m \u001b[32m━━━━━━━━━━━━━━━━━━━━\u001b[0m\u001b[37m\u001b[0m \u001b[1m5s\u001b[0m 9ms/step - accuracy: 0.9795 - loss: 0.0652 - val_accuracy: 0.9862 - val_loss: 0.0498\n",
            "Epoch 6/10\n",
            "\u001b[1m422/422\u001b[0m \u001b[32m━━━━━━━━━━━━━━━━━━━━\u001b[0m\u001b[37m\u001b[0m \u001b[1m5s\u001b[0m 9ms/step - accuracy: 0.9832 - loss: 0.0542 - val_accuracy: 0.9855 - val_loss: 0.0557\n",
            "Epoch 7/10\n",
            "\u001b[1m422/422\u001b[0m \u001b[32m━━━━━━━━━━━━━━━━━━━━\u001b[0m\u001b[37m\u001b[0m \u001b[1m5s\u001b[0m 9ms/step - accuracy: 0.9836 - loss: 0.0509 - val_accuracy: 0.9872 - val_loss: 0.0455\n",
            "Epoch 8/10\n",
            "\u001b[1m422/422\u001b[0m \u001b[32m━━━━━━━━━━━━━━━━━━━━\u001b[0m\u001b[37m\u001b[0m \u001b[1m4s\u001b[0m 9ms/step - accuracy: 0.9851 - loss: 0.0478 - val_accuracy: 0.9882 - val_loss: 0.0446\n",
            "Epoch 9/10\n",
            "\u001b[1m422/422\u001b[0m \u001b[32m━━━━━━━━━━━━━━━━━━━━\u001b[0m\u001b[37m\u001b[0m \u001b[1m4s\u001b[0m 9ms/step - accuracy: 0.9861 - loss: 0.0437 - val_accuracy: 0.9868 - val_loss: 0.0424\n",
            "Epoch 10/10\n",
            "\u001b[1m422/422\u001b[0m \u001b[32m━━━━━━━━━━━━━━━━━━━━\u001b[0m\u001b[37m\u001b[0m \u001b[1m5s\u001b[0m 9ms/step - accuracy: 0.9869 - loss: 0.0405 - val_accuracy: 0.9878 - val_loss: 0.0438\n",
            "\u001b[1m313/313\u001b[0m \u001b[32m━━━━━━━━━━━━━━━━━━━━\u001b[0m\u001b[37m\u001b[0m \u001b[1m1s\u001b[0m 3ms/step - accuracy: 0.0992 - loss: 13.3048\n",
            "VGG model test accuracy: 0.1004\n",
            "Training ResNet model...\n",
            "Epoch 1/10\n",
            "\u001b[1m422/422\u001b[0m \u001b[32m━━━━━━━━━━━━━━━━━━━━\u001b[0m\u001b[37m\u001b[0m \u001b[1m12s\u001b[0m 16ms/step - accuracy: 0.7007 - loss: 0.9568 - val_accuracy: 0.9647 - val_loss: 0.1223\n",
            "Epoch 2/10\n",
            "\u001b[1m422/422\u001b[0m \u001b[32m━━━━━━━━━━━━━━━━━━━━\u001b[0m\u001b[37m\u001b[0m \u001b[1m6s\u001b[0m 11ms/step - accuracy: 0.9630 - loss: 0.1217 - val_accuracy: 0.9758 - val_loss: 0.0764\n",
            "Epoch 3/10\n",
            "\u001b[1m422/422\u001b[0m \u001b[32m━━━━━━━━━━━━━━━━━━━━\u001b[0m\u001b[37m\u001b[0m \u001b[1m4s\u001b[0m 10ms/step - accuracy: 0.9748 - loss: 0.0806 - val_accuracy: 0.9812 - val_loss: 0.0661\n",
            "Epoch 4/10\n",
            "\u001b[1m422/422\u001b[0m \u001b[32m━━━━━━━━━━━━━━━━━━━━\u001b[0m\u001b[37m\u001b[0m \u001b[1m5s\u001b[0m 11ms/step - accuracy: 0.9786 - loss: 0.0676 - val_accuracy: 0.9815 - val_loss: 0.0646\n",
            "Epoch 5/10\n",
            "\u001b[1m422/422\u001b[0m \u001b[32m━━━━━━━━━━━━━━━━━━━━\u001b[0m\u001b[37m\u001b[0m \u001b[1m4s\u001b[0m 10ms/step - accuracy: 0.9835 - loss: 0.0503 - val_accuracy: 0.9883 - val_loss: 0.0463\n",
            "Epoch 6/10\n",
            "\u001b[1m422/422\u001b[0m \u001b[32m━━━━━━━━━━━━━━━━━━━━\u001b[0m\u001b[37m\u001b[0m \u001b[1m4s\u001b[0m 11ms/step - accuracy: 0.9849 - loss: 0.0485 - val_accuracy: 0.9860 - val_loss: 0.0536\n",
            "Epoch 7/10\n",
            "\u001b[1m422/422\u001b[0m \u001b[32m━━━━━━━━━━━━━━━━━━━━\u001b[0m\u001b[37m\u001b[0m \u001b[1m5s\u001b[0m 11ms/step - accuracy: 0.9881 - loss: 0.0378 - val_accuracy: 0.9875 - val_loss: 0.0443\n",
            "Epoch 8/10\n",
            "\u001b[1m422/422\u001b[0m \u001b[32m━━━━━━━━━━━━━━━━━━━━\u001b[0m\u001b[37m\u001b[0m \u001b[1m5s\u001b[0m 10ms/step - accuracy: 0.9876 - loss: 0.0366 - val_accuracy: 0.9883 - val_loss: 0.0469\n",
            "Epoch 9/10\n",
            "\u001b[1m422/422\u001b[0m \u001b[32m━━━━━━━━━━━━━━━━━━━━\u001b[0m\u001b[37m\u001b[0m \u001b[1m5s\u001b[0m 11ms/step - accuracy: 0.9886 - loss: 0.0337 - val_accuracy: 0.9892 - val_loss: 0.0424\n",
            "Epoch 10/10\n",
            "\u001b[1m422/422\u001b[0m \u001b[32m━━━━━━━━━━━━━━━━━━━━\u001b[0m\u001b[37m\u001b[0m \u001b[1m5s\u001b[0m 11ms/step - accuracy: 0.9905 - loss: 0.0282 - val_accuracy: 0.9885 - val_loss: 0.0431\n",
            "\u001b[1m313/313\u001b[0m \u001b[32m━━━━━━━━━━━━━━━━━━━━\u001b[0m\u001b[37m\u001b[0m \u001b[1m1s\u001b[0m 4ms/step - accuracy: 0.1124 - loss: 14.5887\n",
            "ResNet model test accuracy: 0.1150\n",
            "\n",
            "Performance comparison:\n",
            "VGG model accuracy: 0.1004\n",
            "ResNet model accuracy: 0.1150\n",
            "Difference (ResNet - VGG): 0.0146\n"
          ]
        }
      ]
    },
    {
      "cell_type": "markdown",
      "source": [
        "## Optional"
      ],
      "metadata": {
        "id": "wV--YggEMkVt"
      }
    },
    {
      "cell_type": "code",
      "source": [
        "import tensorflow as tf\n",
        "from tensorflow import keras\n",
        "import numpy as np\n",
        "\n",
        "def inception_module(x, filters=8):\n",
        "    \"\"\"\n",
        "    Implements a basic Inception module with four parallel paths:\n",
        "    1. 1x1 convolution\n",
        "    2. 1x1 convolution followed by 3x3 convolution\n",
        "    3. 1x1 convolution followed by 5x5 convolution\n",
        "    4. 3x3 max pooling followed by 1x1 convolution\n",
        "    \"\"\"\n",
        "    # 1x1 convolution branch\n",
        "    conv_1x1 = keras.layers.Conv2D(filters, kernel_size=(1, 1),\n",
        "                                   padding='same', activation='relu')(x)\n",
        "\n",
        "    # 1x1 -> 3x3 convolution branch\n",
        "    conv_3x3_reduce = keras.layers.Conv2D(filters, kernel_size=(1, 1),\n",
        "                                         padding='same', activation='relu')(x)\n",
        "    conv_3x3 = keras.layers.Conv2D(filters, kernel_size=(3, 3),\n",
        "                                  padding='same', activation='relu')(conv_3x3_reduce)\n",
        "\n",
        "    # 1x1 -> 5x5 convolution branch\n",
        "    conv_5x5_reduce = keras.layers.Conv2D(filters, kernel_size=(1, 1),\n",
        "                                         padding='same', activation='relu')(x)\n",
        "    conv_5x5 = keras.layers.Conv2D(filters, kernel_size=(5, 5),\n",
        "                                  padding='same', activation='relu')(conv_5x5_reduce)\n",
        "\n",
        "    # 3x3 max pooling -> 1x1 convolution branch\n",
        "    max_pool = keras.layers.MaxPooling2D(pool_size=(3, 3), strides=(1, 1),\n",
        "                                        padding='same')(x)\n",
        "    pool_proj = keras.layers.Conv2D(filters, kernel_size=(1, 1),\n",
        "                                   padding='same', activation='relu')(max_pool)\n",
        "\n",
        "    # Concatenate all branches along the filter dimension\n",
        "    output = keras.layers.Concatenate(axis=-1)([conv_1x1, conv_3x3, conv_5x5, pool_proj])\n",
        "\n",
        "    return output"
      ],
      "metadata": {
        "id": "m9Olb8qTMml8"
      },
      "execution_count": null,
      "outputs": []
    },
    {
      "cell_type": "code",
      "source": [
        "import tensorflow as tf\n",
        "from tensorflow import keras\n",
        "\n",
        "def vgg_block(x, filters=8):\n",
        "    \"\"\"\n",
        "    VGG block with two convolutional layers and a max pooling layer\n",
        "    \"\"\"\n",
        "    # First convolution\n",
        "    x = keras.layers.Conv2D(filters, kernel_size=(5, 5),\n",
        "                          strides=1, padding=\"same\", activation=\"relu\")(x)\n",
        "\n",
        "    # Second convolution\n",
        "    x = keras.layers.Conv2D(filters, kernel_size=(3, 3),\n",
        "                          strides=1, padding=\"same\", activation=\"relu\")(x)\n",
        "\n",
        "    # Max pooling\n",
        "    x = keras.layers.MaxPooling2D(pool_size=(2, 2), strides=2)(x)\n",
        "\n",
        "    return x\n",
        "\n",
        "def resnet_block(x, filters=8):\n",
        "    \"\"\"\n",
        "    ResNet block with skip connection\n",
        "    \"\"\"\n",
        "    # Store input for skip connection\n",
        "    skip = x\n",
        "\n",
        "    # First convolution\n",
        "    conv1 = keras.layers.Conv2D(filters, kernel_size=(5, 5),\n",
        "                              strides=1, padding=\"same\", activation=\"relu\")(x)\n",
        "\n",
        "    # Second convolution with no activation\n",
        "    conv2 = keras.layers.Conv2D(filters, kernel_size=(5, 5),\n",
        "                              strides=1, padding=\"same\")(conv1)\n",
        "\n",
        "    # Skip connection with 1x1 convolution if dimensions don't match\n",
        "    if x.shape[-1] != filters:\n",
        "        skip = keras.layers.Conv2D(filters, kernel_size=(1, 1),\n",
        "                                 strides=1, padding=\"same\", activation=\"relu\")(x)\n",
        "\n",
        "    # Add the second convolution and skip connection\n",
        "    added = keras.layers.add([conv2, skip])\n",
        "\n",
        "    # Apply activation after addition\n",
        "    output = keras.layers.Activation(\"relu\")(added)\n",
        "\n",
        "    return output\n",
        "\n",
        "def inception_module(x, filters=8):\n",
        "    \"\"\"\n",
        "    Implements a basic Inception module with four parallel paths\n",
        "    \"\"\"\n",
        "    # 1x1 convolution branch\n",
        "    conv_1x1 = keras.layers.Conv2D(filters, kernel_size=(1, 1),\n",
        "                                 padding='same', activation='relu')(x)\n",
        "\n",
        "    # 1x1 -> 3x3 convolution branch\n",
        "    conv_3x3_reduce = keras.layers.Conv2D(filters//2, kernel_size=(1, 1),\n",
        "                                        padding='same', activation='relu')(x)\n",
        "    conv_3x3 = keras.layers.Conv2D(filters, kernel_size=(3, 3),\n",
        "                                 padding='same', activation='relu')(conv_3x3_reduce)\n",
        "\n",
        "    # 1x1 -> 5x5 convolution branch\n",
        "    conv_5x5_reduce = keras.layers.Conv2D(filters//2, kernel_size=(1, 1),\n",
        "                                        padding='same', activation='relu')(x)\n",
        "    conv_5x5 = keras.layers.Conv2D(filters, kernel_size=(5, 5),\n",
        "                                 padding='same', activation='relu')(conv_5x5_reduce)\n",
        "\n",
        "    # 3x3 max pooling -> 1x1 convolution branch\n",
        "    max_pool = keras.layers.MaxPooling2D(pool_size=(3, 3), strides=(1, 1),\n",
        "                                       padding='same')(x)\n",
        "    pool_proj = keras.layers.Conv2D(filters, kernel_size=(1, 1),\n",
        "                                  padding='same', activation='relu')(max_pool)\n",
        "\n",
        "    # Concatenate all branches along the filter dimension\n",
        "    output = keras.layers.Concatenate(axis=-1)([conv_1x1, conv_3x3, conv_5x5, pool_proj])\n",
        "\n",
        "    return output"
      ],
      "metadata": {
        "id": "tKdlmcvjLmUx"
      },
      "execution_count": null,
      "outputs": []
    },
    {
      "cell_type": "code",
      "source": [
        "import numpy as np\n",
        "\n",
        "def loc_noise(x, y, rnd=False):\n",
        "    \"\"\"\n",
        "    Pads images with zeros, effectively doubling their size.\n",
        "    Places the original image in the bottom-right corner (rnd=False)\n",
        "    or randomly in the 56x56 space (rnd=True).\n",
        "    \"\"\"\n",
        "    # x shape is (n, 28, 28, 1) for MNIST\n",
        "    n = x.shape[0]\n",
        "    x_aug = np.zeros((n, 56, 56, 1))\n",
        "\n",
        "    for i in range(n):\n",
        "        if rnd:\n",
        "            # Random placement within the 56x56 area\n",
        "            top = np.random.randint(0, 29)  # 0 to 28\n",
        "            left = np.random.randint(0, 29)  # 0 to 28\n",
        "        else:\n",
        "            # Bottom-right placement\n",
        "            top = 28\n",
        "            left = 28\n",
        "\n",
        "        x_aug[i, top:top+28, left:left+28, :] = x[i]\n",
        "\n",
        "    return x_aug, y"
      ],
      "metadata": {
        "id": "ltsCe_8qM5k9"
      },
      "execution_count": null,
      "outputs": []
    },
    {
      "cell_type": "code",
      "source": [
        "import tensorflow as tf\n",
        "from tensorflow import keras\n",
        "\n",
        "def create_vgg_model(input_shape=(56, 56, 1), num_classes=10, num_blocks=3, filters=8):\n",
        "    \"\"\"Create a VGG-style model with the specified number of blocks\"\"\"\n",
        "    inputs = keras.Input(shape=input_shape)\n",
        "\n",
        "    x = inputs\n",
        "    # Stack VGG blocks\n",
        "    for i in range(num_blocks):\n",
        "        x = vgg_block(x, filters * (2**min(i, 2)))\n",
        "\n",
        "    # Flatten and dense layers\n",
        "    x = keras.layers.Flatten()(x)\n",
        "    outputs = keras.layers.Dense(num_classes, activation=\"softmax\")(x)\n",
        "\n",
        "    model = keras.Model(inputs, outputs)\n",
        "    return model\n",
        "\n",
        "def create_resnet_model(input_shape=(56, 56, 1), num_classes=10, num_blocks=3, filters=8):\n",
        "    \"\"\"Create a ResNet-style model with the specified number of blocks\"\"\"\n",
        "    inputs = keras.Input(shape=input_shape)\n",
        "\n",
        "    x = inputs\n",
        "    # Stack ResNet blocks\n",
        "    for i in range(num_blocks):\n",
        "        x = resnet_block(x, filters * (2**min(i, 2)))\n",
        "        if i < num_blocks - 1:  # Add max pooling after each block except the last\n",
        "            x = keras.layers.MaxPooling2D(pool_size=(2, 2), strides=2)(x)\n",
        "\n",
        "    # Final pooling, flatten and dense layers\n",
        "    x = keras.layers.MaxPooling2D(pool_size=(2, 2), strides=2)(x)\n",
        "    x = keras.layers.Flatten()(x)\n",
        "    outputs = keras.layers.Dense(num_classes, activation=\"softmax\")(x)\n",
        "\n",
        "    model = keras.Model(inputs, outputs)\n",
        "    return model\n",
        "\n",
        "def create_inception_model(input_shape=(56, 56, 1), num_classes=10, num_blocks=3, filters=8):\n",
        "    \"\"\"Create an Inception-style model with the specified number of blocks\"\"\"\n",
        "    inputs = keras.Input(shape=input_shape)\n",
        "\n",
        "    x = inputs\n",
        "    # Stack Inception blocks\n",
        "    for i in range(num_blocks):\n",
        "        x = inception_module(x, filters * (2**min(i, 2)))\n",
        "        if i < num_blocks - 1:  # Add max pooling after each block except the last\n",
        "            x = keras.layers.MaxPooling2D(pool_size=(2, 2), strides=2)(x)\n",
        "\n",
        "    # Final pooling, flatten and dense layers\n",
        "    x = keras.layers.MaxPooling2D(pool_size=(2, 2), strides=2)(x)\n",
        "    x = keras.layers.Flatten()(x)\n",
        "    outputs = keras.layers.Dense(num_classes, activation=\"softmax\")(x)\n",
        "\n",
        "    model = keras.Model(inputs, outputs)\n",
        "    return model"
      ],
      "metadata": {
        "id": "-hNIZkfUNA8e"
      },
      "execution_count": null,
      "outputs": []
    },
    {
      "source": [
        "import tensorflow as tf\n",
        "from tensorflow import keras\n",
        "import numpy as np\n",
        "import matplotlib.pyplot as plt\n",
        "\n",
        "# ... (vgg_block, resnet_block, inception_module, loc_noise functions remain the same) ...\n",
        "\n",
        "def create_vgg_model(input_shape=(56, 56, 1), num_classes=10, num_blocks=3, filters=8):\n",
        "    \"\"\"Create a VGG-style model with the specified number of blocks\"\"\"\n",
        "    inputs = keras.Input(shape=input_shape)\n",
        "\n",
        "    x = inputs\n",
        "    # Stack VGG blocks\n",
        "    for i in range(num_blocks):\n",
        "        x = vgg_block(x, filters * (2**min(i, 2)))\n",
        "        # Check if feature map size is too small for further pooling\n",
        "        if x.shape[1] < 2 or x.shape[2] < 2:  # Height or width less than 2\n",
        "            break  # Stop adding more blocks\n",
        "\n",
        "    # Flatten and dense layers\n",
        "    x = keras.layers.Flatten()(x)\n",
        "    outputs = keras.layers.Dense(num_classes, activation=\"softmax\")(x)\n",
        "\n",
        "    model = keras.Model(inputs, outputs)\n",
        "    return model\n",
        "\n",
        "def create_resnet_model(input_shape=(56, 56, 1), num_classes=10, num_blocks=3, filters=8):\n",
        "    \"\"\"Create a ResNet-style model with the specified number of blocks\"\"\"\n",
        "    inputs = keras.Input(shape=input_shape)\n",
        "\n",
        "    x = inputs\n",
        "    # Stack ResNet blocks\n",
        "    for i in range(num_blocks):\n",
        "        x = resnet_block(x, filters * (2**min(i, 2)))\n",
        "        if i < num_blocks - 1:  # Add max pooling after each block except the last\n",
        "            # Check if feature map size is too small for further pooling\n",
        "            if x.shape[1] >= 2 and x.shape[2] >= 2:  # Height and width at least 2\n",
        "                x = keras.layers.MaxPooling2D(pool_size=(2, 2), strides=2)(x)\n",
        "            else:\n",
        "                break  # Stop adding more blocks\n",
        "\n",
        "    # Final pooling, flatten and dense layers\n",
        "    if x.shape[1] >= 2 and x.shape[2] >= 2:  # Height and width at least 2\n",
        "        x = keras.layers.MaxPooling2D(pool_size=(2, 2), strides=2)(x)\n",
        "    x = keras.layers.Flatten()(x)\n",
        "    outputs = keras.layers.Dense(num_classes, activation=\"softmax\")(x)\n",
        "\n",
        "    model = keras.Model(inputs, outputs)\n",
        "    return model\n",
        "\n",
        "def create_inception_model(input_shape=(56, 56, 1), num_classes=10, num_blocks=3, filters=8):\n",
        "    \"\"\"Create an Inception-style model with the specified number of blocks\"\"\"\n",
        "    inputs = keras.Input(shape=input_shape)\n",
        "\n",
        "    x = inputs\n",
        "    # Stack Inception blocks\n",
        "    for i in range(num_blocks):\n",
        "        x = inception_module(x, filters * (2**min(i, 2)))\n",
        "        if i < num_blocks - 1:  # Add max pooling after each block except the last\n",
        "            # Check if feature map size is too small for further pooling\n",
        "            if x.shape[1] >= 2 and x.shape[2] >= 2:  # Height and width at least 2\n",
        "                x = keras.layers.MaxPooling2D(pool_size=(2, 2), strides=2)(x)\n",
        "            else:\n",
        "                break  # Stop adding more blocks\n",
        "\n",
        "    # Final pooling, flatten and dense layers\n",
        "    if x.shape[1] >= 2 and x.shape[2] >= 2:  # Height and width at least 2\n",
        "        x = keras.layers.MaxPooling2D(pool_size=(2, 2), strides=2)(x)\n",
        "    x = keras.layers.Flatten()(x)\n",
        "    outputs = keras.layers.Dense(num_classes, activation=\"softmax\")(x)\n",
        "\n",
        "    model = keras.Model(inputs, outputs)\n",
        "    return model\n",
        "\n",
        "# ... (compare_architecture_performance function remains the same) ..."
      ],
      "cell_type": "code",
      "metadata": {
        "id": "Sk9zum1IOzgB"
      },
      "execution_count": null,
      "outputs": []
    },
    {
      "cell_type": "code",
      "source": [
        "import tensorflow as tf\n",
        "from tensorflow import keras\n",
        "import numpy as np\n",
        "import matplotlib.pyplot as plt\n",
        "\n",
        "def compare_architecture_performance():\n",
        "    # Load and prepare the data\n",
        "    (x_train, y_train), (x_test, y_test) = keras.datasets.mnist.load_data()\n",
        "\n",
        "    # Reshape and normalize\n",
        "    x_train = x_train.reshape(-1, 28, 28, 1).astype(\"float32\") / 255.0\n",
        "    x_test = x_test.reshape(-1, 28, 28, 1).astype(\"float32\") / 255.0\n",
        "\n",
        "    # Convert labels to one-hot encoded vectors\n",
        "    y_train = keras.utils.to_categorical(y_train, 10)\n",
        "    y_test = keras.utils.to_categorical(y_test, 10)\n",
        "\n",
        "    # Apply data augmentation\n",
        "    x_train_aug, y_train_aug = loc_noise(x_train, y_train, rnd=False)  # Bottom-right placement for train\n",
        "    x_test_aug, y_test_aug = loc_noise(x_test, y_test, rnd=True)       # Random placement for test\n",
        "\n",
        "    # Initialize results storage\n",
        "    depths = [3, 6, 10]  # Different depths to test\n",
        "    vgg_accuracies = []\n",
        "    resnet_accuracies = []\n",
        "    inception_accuracies = []\n",
        "\n",
        "    # Test each depth\n",
        "    for depth in depths:\n",
        "        print(f\"\\n--- Testing models with {depth} blocks ---\")\n",
        "\n",
        "        # VGG Model\n",
        "        print(f\"Training VGG model with {depth} blocks...\")\n",
        "        vgg_model = create_vgg_model(num_blocks=depth)\n",
        "        vgg_model.compile(optimizer=\"adam\", loss=\"categorical_crossentropy\", metrics=[\"accuracy\"])\n",
        "        vgg_model.fit(\n",
        "            x_train_aug, y_train_aug,\n",
        "            epochs=10,\n",
        "            batch_size=128,\n",
        "            validation_split=0.1,\n",
        "            verbose=1\n",
        "        )\n",
        "        _, vgg_acc = vgg_model.evaluate(x_test_aug, y_test_aug)\n",
        "        vgg_accuracies.append(vgg_acc)\n",
        "        print(f\"VGG accuracy with {depth} blocks: {vgg_acc:.4f}\")\n",
        "\n",
        "        # ResNet Model\n",
        "        print(f\"Training ResNet model with {depth} blocks...\")\n",
        "        resnet_model = create_resnet_model(num_blocks=depth)\n",
        "        resnet_model.compile(optimizer=\"adam\", loss=\"categorical_crossentropy\", metrics=[\"accuracy\"])\n",
        "        resnet_model.fit(\n",
        "            x_train_aug, y_train_aug,\n",
        "            epochs=10,\n",
        "            batch_size=128,\n",
        "            validation_split=0.1,\n",
        "            verbose=1\n",
        "        )\n",
        "        _, resnet_acc = resnet_model.evaluate(x_test_aug, y_test_aug)\n",
        "        resnet_accuracies.append(resnet_acc)\n",
        "        print(f\"ResNet accuracy with {depth} blocks: {resnet_acc:.4f}\")\n",
        "\n",
        "        # Inception Model\n",
        "        print(f\"Training Inception model with {depth} blocks...\")\n",
        "        inception_model = create_inception_model(num_blocks=depth)\n",
        "        inception_model.compile(optimizer=\"adam\", loss=\"categorical_crossentropy\", metrics=[\"accuracy\"])\n",
        "        inception_model.fit(\n",
        "            x_train_aug, y_train_aug,\n",
        "            epochs=10,\n",
        "            batch_size=128,\n",
        "            validation_split=0.1,\n",
        "            verbose=1\n",
        "        )\n",
        "        _, inception_acc = inception_model.evaluate(x_test_aug, y_test_aug)\n",
        "        inception_accuracies.append(inception_acc)\n",
        "        print(f\"Inception accuracy with {depth} blocks: {inception_acc:.4f}\")\n",
        "\n",
        "    # Plot results\n",
        "    plt.figure(figsize=(10, 6))\n",
        "    plt.plot(depths, vgg_accuracies, 'bo-', label='VGG')\n",
        "    plt.plot(depths, resnet_accuracies, 'ro-', label='ResNet')\n",
        "    plt.plot(depths, inception_accuracies, 'go-', label='Inception')\n",
        "    plt.xlabel('Number of Blocks')\n",
        "    plt.ylabel('Accuracy')\n",
        "    plt.title('Accuracy vs Model Depth by Architecture')\n",
        "    plt.legend()\n",
        "    plt.grid(True)\n",
        "    plt.savefig('architecture_comparison.png')\n",
        "    plt.show()\n",
        "\n",
        "    # Print summary\n",
        "    print(\"\\n--- Performance Summary ---\")\n",
        "    print(\"Depth | VGG      | ResNet   | Inception\")\n",
        "    print(\"-\" * 40)\n",
        "    for i, depth in enumerate(depths):\n",
        "        print(f\"{depth:5d} | {vgg_accuracies[i]:.4f} | {resnet_accuracies[i]:.4f} | {inception_accuracies[i]:.4f}\")\n",
        "\n",
        "if __name__ == \"__main__\":\n",
        "    compare_architecture_performance()"
      ],
      "metadata": {
        "colab": {
          "base_uri": "https://localhost:8080/",
          "height": 1000
        },
        "id": "l5lmPxwwNF4F",
        "outputId": "648dc4d5-c689-4e5e-dc2f-ce711b2114cc"
      },
      "execution_count": null,
      "outputs": [
        {
          "output_type": "stream",
          "name": "stdout",
          "text": [
            "\n",
            "--- Testing models with 3 blocks ---\n",
            "Training VGG model with 3 blocks...\n",
            "Epoch 1/10\n",
            "\u001b[1m422/422\u001b[0m \u001b[32m━━━━━━━━━━━━━━━━━━━━\u001b[0m\u001b[37m\u001b[0m \u001b[1m10s\u001b[0m 16ms/step - accuracy: 0.7751 - loss: 0.7119 - val_accuracy: 0.9777 - val_loss: 0.0824\n",
            "Epoch 2/10\n",
            "\u001b[1m422/422\u001b[0m \u001b[32m━━━━━━━━━━━━━━━━━━━━\u001b[0m\u001b[37m\u001b[0m \u001b[1m7s\u001b[0m 11ms/step - accuracy: 0.9722 - loss: 0.0873 - val_accuracy: 0.9852 - val_loss: 0.0524\n",
            "Epoch 3/10\n",
            "\u001b[1m422/422\u001b[0m \u001b[32m━━━━━━━━━━━━━━━━━━━━\u001b[0m\u001b[37m\u001b[0m \u001b[1m5s\u001b[0m 10ms/step - accuracy: 0.9837 - loss: 0.0535 - val_accuracy: 0.9858 - val_loss: 0.0433\n",
            "Epoch 4/10\n",
            "\u001b[1m422/422\u001b[0m \u001b[32m━━━━━━━━━━━━━━━━━━━━\u001b[0m\u001b[37m\u001b[0m \u001b[1m5s\u001b[0m 10ms/step - accuracy: 0.9874 - loss: 0.0397 - val_accuracy: 0.9883 - val_loss: 0.0402\n",
            "Epoch 5/10\n",
            "\u001b[1m422/422\u001b[0m \u001b[32m━━━━━━━━━━━━━━━━━━━━\u001b[0m\u001b[37m\u001b[0m \u001b[1m5s\u001b[0m 11ms/step - accuracy: 0.9902 - loss: 0.0322 - val_accuracy: 0.9888 - val_loss: 0.0376\n",
            "Epoch 6/10\n",
            "\u001b[1m422/422\u001b[0m \u001b[32m━━━━━━━━━━━━━━━━━━━━\u001b[0m\u001b[37m\u001b[0m \u001b[1m5s\u001b[0m 11ms/step - accuracy: 0.9912 - loss: 0.0273 - val_accuracy: 0.9895 - val_loss: 0.0350\n",
            "Epoch 7/10\n",
            "\u001b[1m422/422\u001b[0m \u001b[32m━━━━━━━━━━━━━━━━━━━━\u001b[0m\u001b[37m\u001b[0m \u001b[1m5s\u001b[0m 11ms/step - accuracy: 0.9931 - loss: 0.0216 - val_accuracy: 0.9897 - val_loss: 0.0338\n",
            "Epoch 8/10\n",
            "\u001b[1m422/422\u001b[0m \u001b[32m━━━━━━━━━━━━━━━━━━━━\u001b[0m\u001b[37m\u001b[0m \u001b[1m5s\u001b[0m 11ms/step - accuracy: 0.9940 - loss: 0.0175 - val_accuracy: 0.9930 - val_loss: 0.0271\n",
            "Epoch 9/10\n",
            "\u001b[1m422/422\u001b[0m \u001b[32m━━━━━━━━━━━━━━━━━━━━\u001b[0m\u001b[37m\u001b[0m \u001b[1m4s\u001b[0m 10ms/step - accuracy: 0.9950 - loss: 0.0153 - val_accuracy: 0.9910 - val_loss: 0.0373\n",
            "Epoch 10/10\n",
            "\u001b[1m422/422\u001b[0m \u001b[32m━━━━━━━━━━━━━━━━━━━━\u001b[0m\u001b[37m\u001b[0m \u001b[1m5s\u001b[0m 11ms/step - accuracy: 0.9954 - loss: 0.0144 - val_accuracy: 0.9923 - val_loss: 0.0330\n",
            "\u001b[1m313/313\u001b[0m \u001b[32m━━━━━━━━━━━━━━━━━━━━\u001b[0m\u001b[37m\u001b[0m \u001b[1m1s\u001b[0m 3ms/step - accuracy: 0.0996 - loss: 12.1587\n",
            "VGG accuracy with 3 blocks: 0.1026\n",
            "Training ResNet model with 3 blocks...\n",
            "Epoch 1/10\n",
            "\u001b[1m422/422\u001b[0m \u001b[32m━━━━━━━━━━━━━━━━━━━━\u001b[0m\u001b[37m\u001b[0m \u001b[1m14s\u001b[0m 22ms/step - accuracy: 0.8034 - loss: 0.6067 - val_accuracy: 0.9785 - val_loss: 0.0684\n",
            "Epoch 2/10\n",
            "\u001b[1m422/422\u001b[0m \u001b[32m━━━━━━━━━━━━━━━━━━━━\u001b[0m\u001b[37m\u001b[0m \u001b[1m15s\u001b[0m 14ms/step - accuracy: 0.9773 - loss: 0.0719 - val_accuracy: 0.9858 - val_loss: 0.0478\n",
            "Epoch 3/10\n",
            "\u001b[1m422/422\u001b[0m \u001b[32m━━━━━━━━━━━━━━━━━━━━\u001b[0m\u001b[37m\u001b[0m \u001b[1m10s\u001b[0m 13ms/step - accuracy: 0.9857 - loss: 0.0453 - val_accuracy: 0.9857 - val_loss: 0.0477\n",
            "Epoch 4/10\n",
            "\u001b[1m422/422\u001b[0m \u001b[32m━━━━━━━━━━━━━━━━━━━━\u001b[0m\u001b[37m\u001b[0m \u001b[1m10s\u001b[0m 13ms/step - accuracy: 0.9891 - loss: 0.0334 - val_accuracy: 0.9895 - val_loss: 0.0357\n",
            "Epoch 5/10\n",
            "\u001b[1m422/422\u001b[0m \u001b[32m━━━━━━━━━━━━━━━━━━━━\u001b[0m\u001b[37m\u001b[0m \u001b[1m10s\u001b[0m 13ms/step - accuracy: 0.9921 - loss: 0.0233 - val_accuracy: 0.9897 - val_loss: 0.0389\n",
            "Epoch 6/10\n",
            "\u001b[1m422/422\u001b[0m \u001b[32m━━━━━━━━━━━━━━━━━━━━\u001b[0m\u001b[37m\u001b[0m \u001b[1m10s\u001b[0m 13ms/step - accuracy: 0.9924 - loss: 0.0229 - val_accuracy: 0.9898 - val_loss: 0.0408\n",
            "Epoch 7/10\n",
            "\u001b[1m422/422\u001b[0m \u001b[32m━━━━━━━━━━━━━━━━━━━━\u001b[0m\u001b[37m\u001b[0m \u001b[1m10s\u001b[0m 14ms/step - accuracy: 0.9940 - loss: 0.0184 - val_accuracy: 0.9902 - val_loss: 0.0323\n",
            "Epoch 8/10\n",
            "\u001b[1m422/422\u001b[0m \u001b[32m━━━━━━━━━━━━━━━━━━━━\u001b[0m\u001b[37m\u001b[0m \u001b[1m10s\u001b[0m 14ms/step - accuracy: 0.9953 - loss: 0.0135 - val_accuracy: 0.9907 - val_loss: 0.0324\n",
            "Epoch 9/10\n",
            "\u001b[1m422/422\u001b[0m \u001b[32m━━━━━━━━━━━━━━━━━━━━\u001b[0m\u001b[37m\u001b[0m \u001b[1m10s\u001b[0m 14ms/step - accuracy: 0.9965 - loss: 0.0125 - val_accuracy: 0.9932 - val_loss: 0.0281\n",
            "Epoch 10/10\n",
            "\u001b[1m422/422\u001b[0m \u001b[32m━━━━━━━━━━━━━━━━━━━━\u001b[0m\u001b[37m\u001b[0m \u001b[1m6s\u001b[0m 13ms/step - accuracy: 0.9966 - loss: 0.0098 - val_accuracy: 0.9925 - val_loss: 0.0328\n",
            "\u001b[1m313/313\u001b[0m \u001b[32m━━━━━━━━━━━━━━━━━━━━\u001b[0m\u001b[37m\u001b[0m \u001b[1m2s\u001b[0m 4ms/step - accuracy: 0.1060 - loss: 10.0172\n",
            "ResNet accuracy with 3 blocks: 0.1048\n",
            "Training Inception model with 3 blocks...\n",
            "Epoch 1/10\n",
            "\u001b[1m422/422\u001b[0m \u001b[32m━━━━━━━━━━━━━━━━━━━━\u001b[0m\u001b[37m\u001b[0m \u001b[1m22s\u001b[0m 32ms/step - accuracy: 0.7675 - loss: 0.7269 - val_accuracy: 0.9832 - val_loss: 0.0568\n",
            "Epoch 2/10\n",
            "\u001b[1m422/422\u001b[0m \u001b[32m━━━━━━━━━━━━━━━━━━━━\u001b[0m\u001b[37m\u001b[0m \u001b[1m11s\u001b[0m 19ms/step - accuracy: 0.9805 - loss: 0.0616 - val_accuracy: 0.9850 - val_loss: 0.0499\n",
            "Epoch 3/10\n",
            "\u001b[1m422/422\u001b[0m \u001b[32m━━━━━━━━━━━━━━━━━━━━\u001b[0m\u001b[37m\u001b[0m \u001b[1m10s\u001b[0m 19ms/step - accuracy: 0.9875 - loss: 0.0397 - val_accuracy: 0.9895 - val_loss: 0.0337\n",
            "Epoch 4/10\n",
            "\u001b[1m422/422\u001b[0m \u001b[32m━━━━━━━━━━━━━━━━━━━━\u001b[0m\u001b[37m\u001b[0m \u001b[1m8s\u001b[0m 19ms/step - accuracy: 0.9904 - loss: 0.0311 - val_accuracy: 0.9900 - val_loss: 0.0340\n",
            "Epoch 5/10\n",
            "\u001b[1m422/422\u001b[0m \u001b[32m━━━━━━━━━━━━━━━━━━━━\u001b[0m\u001b[37m\u001b[0m \u001b[1m10s\u001b[0m 19ms/step - accuracy: 0.9920 - loss: 0.0258 - val_accuracy: 0.9912 - val_loss: 0.0288\n",
            "Epoch 6/10\n",
            "\u001b[1m422/422\u001b[0m \u001b[32m━━━━━━━━━━━━━━━━━━━━\u001b[0m\u001b[37m\u001b[0m \u001b[1m10s\u001b[0m 19ms/step - accuracy: 0.9937 - loss: 0.0195 - val_accuracy: 0.9925 - val_loss: 0.0266\n",
            "Epoch 7/10\n",
            "\u001b[1m422/422\u001b[0m \u001b[32m━━━━━━━━━━━━━━━━━━━━\u001b[0m\u001b[37m\u001b[0m \u001b[1m8s\u001b[0m 18ms/step - accuracy: 0.9948 - loss: 0.0152 - val_accuracy: 0.9912 - val_loss: 0.0284\n",
            "Epoch 8/10\n",
            "\u001b[1m422/422\u001b[0m \u001b[32m━━━━━━━━━━━━━━━━━━━━\u001b[0m\u001b[37m\u001b[0m \u001b[1m10s\u001b[0m 19ms/step - accuracy: 0.9950 - loss: 0.0152 - val_accuracy: 0.9920 - val_loss: 0.0277\n",
            "Epoch 9/10\n",
            "\u001b[1m422/422\u001b[0m \u001b[32m━━━━━━━━━━━━━━━━━━━━\u001b[0m\u001b[37m\u001b[0m \u001b[1m8s\u001b[0m 19ms/step - accuracy: 0.9961 - loss: 0.0128 - val_accuracy: 0.9925 - val_loss: 0.0271\n",
            "Epoch 10/10\n",
            "\u001b[1m422/422\u001b[0m \u001b[32m━━━━━━━━━━━━━━━━━━━━\u001b[0m\u001b[37m\u001b[0m \u001b[1m10s\u001b[0m 19ms/step - accuracy: 0.9965 - loss: 0.0103 - val_accuracy: 0.9920 - val_loss: 0.0317\n",
            "\u001b[1m313/313\u001b[0m \u001b[32m━━━━━━━━━━━━━━━━━━━━\u001b[0m\u001b[37m\u001b[0m \u001b[1m2s\u001b[0m 5ms/step - accuracy: 0.1091 - loss: 13.2530\n",
            "Inception accuracy with 3 blocks: 0.1096\n",
            "\n",
            "--- Testing models with 6 blocks ---\n",
            "Training VGG model with 6 blocks...\n",
            "Epoch 1/10\n",
            "\u001b[1m422/422\u001b[0m \u001b[32m━━━━━━━━━━━━━━━━━━━━\u001b[0m\u001b[37m\u001b[0m \u001b[1m17s\u001b[0m 25ms/step - accuracy: 0.6816 - loss: 0.9085 - val_accuracy: 0.9723 - val_loss: 0.0920\n",
            "Epoch 2/10\n",
            "\u001b[1m422/422\u001b[0m \u001b[32m━━━━━━━━━━━━━━━━━━━━\u001b[0m\u001b[37m\u001b[0m \u001b[1m5s\u001b[0m 12ms/step - accuracy: 0.9677 - loss: 0.1021 - val_accuracy: 0.9852 - val_loss: 0.0548\n",
            "Epoch 3/10\n",
            "\u001b[1m422/422\u001b[0m \u001b[32m━━━━━━━━━━━━━━━━━━━━\u001b[0m\u001b[37m\u001b[0m \u001b[1m5s\u001b[0m 12ms/step - accuracy: 0.9773 - loss: 0.0705 - val_accuracy: 0.9835 - val_loss: 0.0574\n",
            "Epoch 4/10\n",
            "\u001b[1m422/422\u001b[0m \u001b[32m━━━━━━━━━━━━━━━━━━━━\u001b[0m\u001b[37m\u001b[0m \u001b[1m5s\u001b[0m 12ms/step - accuracy: 0.9836 - loss: 0.0535 - val_accuracy: 0.9865 - val_loss: 0.0496\n",
            "Epoch 5/10\n",
            "\u001b[1m422/422\u001b[0m \u001b[32m━━━━━━━━━━━━━━━━━━━━\u001b[0m\u001b[37m\u001b[0m \u001b[1m5s\u001b[0m 12ms/step - accuracy: 0.9858 - loss: 0.0448 - val_accuracy: 0.9875 - val_loss: 0.0471\n",
            "Epoch 6/10\n",
            "\u001b[1m422/422\u001b[0m \u001b[32m━━━━━━━━━━━━━━━━━━━━\u001b[0m\u001b[37m\u001b[0m \u001b[1m5s\u001b[0m 12ms/step - accuracy: 0.9874 - loss: 0.0390 - val_accuracy: 0.9878 - val_loss: 0.0443\n",
            "Epoch 7/10\n",
            "\u001b[1m422/422\u001b[0m \u001b[32m━━━━━━━━━━━━━━━━━━━━\u001b[0m\u001b[37m\u001b[0m \u001b[1m10s\u001b[0m 13ms/step - accuracy: 0.9894 - loss: 0.0345 - val_accuracy: 0.9905 - val_loss: 0.0362\n",
            "Epoch 8/10\n",
            "\u001b[1m422/422\u001b[0m \u001b[32m━━━━━━━━━━━━━━━━━━━━\u001b[0m\u001b[37m\u001b[0m \u001b[1m5s\u001b[0m 12ms/step - accuracy: 0.9910 - loss: 0.0278 - val_accuracy: 0.9843 - val_loss: 0.0564\n",
            "Epoch 9/10\n",
            "\u001b[1m422/422\u001b[0m \u001b[32m━━━━━━━━━━━━━━━━━━━━\u001b[0m\u001b[37m\u001b[0m \u001b[1m5s\u001b[0m 12ms/step - accuracy: 0.9919 - loss: 0.0253 - val_accuracy: 0.9922 - val_loss: 0.0307\n",
            "Epoch 10/10\n",
            "\u001b[1m422/422\u001b[0m \u001b[32m━━━━━━━━━━━━━━━━━━━━\u001b[0m\u001b[37m\u001b[0m \u001b[1m5s\u001b[0m 12ms/step - accuracy: 0.9930 - loss: 0.0207 - val_accuracy: 0.9900 - val_loss: 0.0365\n",
            "\u001b[1m313/313\u001b[0m \u001b[32m━━━━━━━━━━━━━━━━━━━━\u001b[0m\u001b[37m\u001b[0m \u001b[1m2s\u001b[0m 5ms/step - accuracy: 0.1122 - loss: 3.8908\n",
            "VGG accuracy with 6 blocks: 0.1204\n",
            "Training ResNet model with 6 blocks...\n",
            "Epoch 1/10\n",
            "\u001b[1m422/422\u001b[0m \u001b[32m━━━━━━━━━━━━━━━━━━━━\u001b[0m\u001b[37m\u001b[0m \u001b[1m20s\u001b[0m 28ms/step - accuracy: 0.7820 - loss: 0.6615 - val_accuracy: 0.9765 - val_loss: 0.0825\n",
            "Epoch 2/10\n",
            "\u001b[1m422/422\u001b[0m \u001b[32m━━━━━━━━━━━━━━━━━━━━\u001b[0m\u001b[37m\u001b[0m \u001b[1m6s\u001b[0m 15ms/step - accuracy: 0.9739 - loss: 0.0789 - val_accuracy: 0.9810 - val_loss: 0.0661\n",
            "Epoch 3/10\n",
            "\u001b[1m422/422\u001b[0m \u001b[32m━━━━━━━━━━━━━━━━━━━━\u001b[0m\u001b[37m\u001b[0m \u001b[1m6s\u001b[0m 15ms/step - accuracy: 0.9855 - loss: 0.0475 - val_accuracy: 0.9893 - val_loss: 0.0377\n",
            "Epoch 4/10\n",
            "\u001b[1m422/422\u001b[0m \u001b[32m━━━━━━━━━━━━━━━━━━━━\u001b[0m\u001b[37m\u001b[0m \u001b[1m10s\u001b[0m 15ms/step - accuracy: 0.9897 - loss: 0.0323 - val_accuracy: 0.9878 - val_loss: 0.0405\n",
            "Epoch 5/10\n",
            "\u001b[1m422/422\u001b[0m \u001b[32m━━━━━━━━━━━━━━━━━━━━\u001b[0m\u001b[37m\u001b[0m \u001b[1m10s\u001b[0m 15ms/step - accuracy: 0.9909 - loss: 0.0273 - val_accuracy: 0.9878 - val_loss: 0.0347\n",
            "Epoch 6/10\n",
            "\u001b[1m422/422\u001b[0m \u001b[32m━━━━━━━━━━━━━━━━━━━━\u001b[0m\u001b[37m\u001b[0m \u001b[1m6s\u001b[0m 15ms/step - accuracy: 0.9920 - loss: 0.0254 - val_accuracy: 0.9885 - val_loss: 0.0418\n",
            "Epoch 7/10\n",
            "\u001b[1m422/422\u001b[0m \u001b[32m━━━━━━━━━━━━━━━━━━━━\u001b[0m\u001b[37m\u001b[0m \u001b[1m6s\u001b[0m 15ms/step - accuracy: 0.9929 - loss: 0.0215 - val_accuracy: 0.9932 - val_loss: 0.0276\n",
            "Epoch 8/10\n",
            "\u001b[1m422/422\u001b[0m \u001b[32m━━━━━━━━━━━━━━━━━━━━\u001b[0m\u001b[37m\u001b[0m \u001b[1m6s\u001b[0m 15ms/step - accuracy: 0.9950 - loss: 0.0159 - val_accuracy: 0.9917 - val_loss: 0.0307\n",
            "Epoch 9/10\n",
            "\u001b[1m422/422\u001b[0m \u001b[32m━━━━━━━━━━━━━━━━━━━━\u001b[0m\u001b[37m\u001b[0m \u001b[1m6s\u001b[0m 15ms/step - accuracy: 0.9948 - loss: 0.0168 - val_accuracy: 0.9897 - val_loss: 0.0364\n",
            "Epoch 10/10\n",
            "\u001b[1m422/422\u001b[0m \u001b[32m━━━━━━━━━━━━━━━━━━━━\u001b[0m\u001b[37m\u001b[0m \u001b[1m6s\u001b[0m 15ms/step - accuracy: 0.9956 - loss: 0.0143 - val_accuracy: 0.9903 - val_loss: 0.0391\n",
            "\u001b[1m313/313\u001b[0m \u001b[32m━━━━━━━━━━━━━━━━━━━━\u001b[0m\u001b[37m\u001b[0m \u001b[1m3s\u001b[0m 7ms/step - accuracy: 0.3022 - loss: 3.7262\n",
            "ResNet accuracy with 6 blocks: 0.3111\n",
            "Training Inception model with 6 blocks...\n",
            "Epoch 1/10\n",
            "\u001b[1m422/422\u001b[0m \u001b[32m━━━━━━━━━━━━━━━━━━━━\u001b[0m\u001b[37m\u001b[0m \u001b[1m38s\u001b[0m 48ms/step - accuracy: 0.6784 - loss: 0.9756 - val_accuracy: 0.9670 - val_loss: 0.1078\n",
            "Epoch 2/10\n",
            "\u001b[1m422/422\u001b[0m \u001b[32m━━━━━━━━━━━━━━━━━━━━\u001b[0m\u001b[37m\u001b[0m \u001b[1m9s\u001b[0m 22ms/step - accuracy: 0.9621 - loss: 0.1181 - val_accuracy: 0.9747 - val_loss: 0.0876\n",
            "Epoch 3/10\n",
            "\u001b[1m422/422\u001b[0m \u001b[32m━━━━━━━━━━━━━━━━━━━━\u001b[0m\u001b[37m\u001b[0m \u001b[1m10s\u001b[0m 21ms/step - accuracy: 0.9731 - loss: 0.0874 - val_accuracy: 0.9820 - val_loss: 0.0626\n",
            "Epoch 4/10\n",
            "\u001b[1m422/422\u001b[0m \u001b[32m━━━━━━━━━━━━━━━━━━━━\u001b[0m\u001b[37m\u001b[0m \u001b[1m9s\u001b[0m 21ms/step - accuracy: 0.9820 - loss: 0.0570 - val_accuracy: 0.9855 - val_loss: 0.0504\n",
            "Epoch 5/10\n",
            "\u001b[1m422/422\u001b[0m \u001b[32m━━━━━━━━━━━━━━━━━━━━\u001b[0m\u001b[37m\u001b[0m \u001b[1m9s\u001b[0m 22ms/step - accuracy: 0.9857 - loss: 0.0424 - val_accuracy: 0.9860 - val_loss: 0.0459\n",
            "Epoch 6/10\n",
            "\u001b[1m422/422\u001b[0m \u001b[32m━━━━━━━━━━━━━━━━━━━━\u001b[0m\u001b[37m\u001b[0m \u001b[1m10s\u001b[0m 22ms/step - accuracy: 0.9872 - loss: 0.0399 - val_accuracy: 0.9872 - val_loss: 0.0501\n",
            "Epoch 7/10\n",
            "\u001b[1m422/422\u001b[0m \u001b[32m━━━━━━━━━━━━━━━━━━━━\u001b[0m\u001b[37m\u001b[0m \u001b[1m9s\u001b[0m 22ms/step - accuracy: 0.9895 - loss: 0.0328 - val_accuracy: 0.9868 - val_loss: 0.0432\n",
            "Epoch 8/10\n",
            "\u001b[1m422/422\u001b[0m \u001b[32m━━━━━━━━━━━━━━━━━━━━\u001b[0m\u001b[37m\u001b[0m \u001b[1m10s\u001b[0m 22ms/step - accuracy: 0.9908 - loss: 0.0277 - val_accuracy: 0.9875 - val_loss: 0.0425\n",
            "Epoch 9/10\n",
            "\u001b[1m422/422\u001b[0m \u001b[32m━━━━━━━━━━━━━━━━━━━━\u001b[0m\u001b[37m\u001b[0m \u001b[1m10s\u001b[0m 21ms/step - accuracy: 0.9923 - loss: 0.0246 - val_accuracy: 0.9902 - val_loss: 0.0330\n",
            "Epoch 10/10\n",
            "\u001b[1m422/422\u001b[0m \u001b[32m━━━━━━━━━━━━━━━━━━━━\u001b[0m\u001b[37m\u001b[0m \u001b[1m9s\u001b[0m 22ms/step - accuracy: 0.9924 - loss: 0.0219 - val_accuracy: 0.9863 - val_loss: 0.0400\n",
            "\u001b[1m313/313\u001b[0m \u001b[32m━━━━━━━━━━━━━━━━━━━━\u001b[0m\u001b[37m\u001b[0m \u001b[1m4s\u001b[0m 10ms/step - accuracy: 0.3366 - loss: 4.8345\n",
            "Inception accuracy with 6 blocks: 0.3364\n",
            "\n",
            "--- Testing models with 10 blocks ---\n",
            "Training VGG model with 10 blocks...\n",
            "Epoch 1/10\n",
            "\u001b[1m422/422\u001b[0m \u001b[32m━━━━━━━━━━━━━━━━━━━━\u001b[0m\u001b[37m\u001b[0m \u001b[1m13s\u001b[0m 20ms/step - accuracy: 0.6706 - loss: 0.9200 - val_accuracy: 0.9643 - val_loss: 0.1176\n",
            "Epoch 2/10\n",
            "\u001b[1m422/422\u001b[0m \u001b[32m━━━━━━━━━━━━━━━━━━━━\u001b[0m\u001b[37m\u001b[0m \u001b[1m5s\u001b[0m 12ms/step - accuracy: 0.9679 - loss: 0.1058 - val_accuracy: 0.9778 - val_loss: 0.0691\n",
            "Epoch 3/10\n",
            "\u001b[1m422/422\u001b[0m \u001b[32m━━━━━━━━━━━━━━━━━━━━\u001b[0m\u001b[37m\u001b[0m \u001b[1m5s\u001b[0m 12ms/step - accuracy: 0.9807 - loss: 0.0629 - val_accuracy: 0.9845 - val_loss: 0.0566\n",
            "Epoch 4/10\n",
            "\u001b[1m422/422\u001b[0m \u001b[32m━━━━━━━━━━━━━━━━━━━━\u001b[0m\u001b[37m\u001b[0m \u001b[1m10s\u001b[0m 13ms/step - accuracy: 0.9855 - loss: 0.0457 - val_accuracy: 0.9853 - val_loss: 0.0463\n",
            "Epoch 5/10\n",
            "\u001b[1m422/422\u001b[0m \u001b[32m━━━━━━━━━━━━━━━━━━━━\u001b[0m\u001b[37m\u001b[0m \u001b[1m5s\u001b[0m 12ms/step - accuracy: 0.9878 - loss: 0.0395 - val_accuracy: 0.9880 - val_loss: 0.0449\n",
            "Epoch 6/10\n",
            "\u001b[1m422/422\u001b[0m \u001b[32m━━━━━━━━━━━━━━━━━━━━\u001b[0m\u001b[37m\u001b[0m \u001b[1m5s\u001b[0m 12ms/step - accuracy: 0.9884 - loss: 0.0365 - val_accuracy: 0.9882 - val_loss: 0.0413\n",
            "Epoch 7/10\n",
            "\u001b[1m422/422\u001b[0m \u001b[32m━━━━━━━━━━━━━━━━━━━━\u001b[0m\u001b[37m\u001b[0m \u001b[1m5s\u001b[0m 12ms/step - accuracy: 0.9911 - loss: 0.0268 - val_accuracy: 0.9897 - val_loss: 0.0340\n",
            "Epoch 8/10\n",
            "\u001b[1m422/422\u001b[0m \u001b[32m━━━━━━━━━━━━━━━━━━━━\u001b[0m\u001b[37m\u001b[0m \u001b[1m10s\u001b[0m 13ms/step - accuracy: 0.9924 - loss: 0.0245 - val_accuracy: 0.9878 - val_loss: 0.0419\n",
            "Epoch 9/10\n",
            "\u001b[1m422/422\u001b[0m \u001b[32m━━━━━━━━━━━━━━━━━━━━\u001b[0m\u001b[37m\u001b[0m \u001b[1m10s\u001b[0m 13ms/step - accuracy: 0.9933 - loss: 0.0211 - val_accuracy: 0.9873 - val_loss: 0.0462\n",
            "Epoch 10/10\n",
            "\u001b[1m422/422\u001b[0m \u001b[32m━━━━━━━━━━━━━━━━━━━━\u001b[0m\u001b[37m\u001b[0m \u001b[1m5s\u001b[0m 12ms/step - accuracy: 0.9930 - loss: 0.0221 - val_accuracy: 0.9898 - val_loss: 0.0404\n",
            "\u001b[1m313/313\u001b[0m \u001b[32m━━━━━━━━━━━━━━━━━━━━\u001b[0m\u001b[37m\u001b[0m \u001b[1m2s\u001b[0m 5ms/step - accuracy: 0.1300 - loss: 3.9812\n",
            "VGG accuracy with 10 blocks: 0.1358\n",
            "Training ResNet model with 10 blocks...\n",
            "Epoch 1/10\n",
            "\u001b[1m422/422\u001b[0m \u001b[32m━━━━━━━━━━━━━━━━━━━━\u001b[0m\u001b[37m\u001b[0m \u001b[1m18s\u001b[0m 26ms/step - accuracy: 0.7601 - loss: 0.7095 - val_accuracy: 0.9722 - val_loss: 0.0921\n",
            "Epoch 2/10\n",
            "\u001b[1m422/422\u001b[0m \u001b[32m━━━━━━━━━━━━━━━━━━━━\u001b[0m\u001b[37m\u001b[0m \u001b[1m7s\u001b[0m 15ms/step - accuracy: 0.9741 - loss: 0.0834 - val_accuracy: 0.9845 - val_loss: 0.0517\n",
            "Epoch 3/10\n",
            "\u001b[1m422/422\u001b[0m \u001b[32m━━━━━━━━━━━━━━━━━━━━\u001b[0m\u001b[37m\u001b[0m \u001b[1m6s\u001b[0m 15ms/step - accuracy: 0.9848 - loss: 0.0489 - val_accuracy: 0.9843 - val_loss: 0.0559\n",
            "Epoch 4/10\n",
            "\u001b[1m422/422\u001b[0m \u001b[32m━━━━━━━━━━━━━━━━━━━━\u001b[0m\u001b[37m\u001b[0m \u001b[1m10s\u001b[0m 15ms/step - accuracy: 0.9876 - loss: 0.0400 - val_accuracy: 0.9892 - val_loss: 0.0441\n",
            "Epoch 5/10\n",
            "\u001b[1m422/422\u001b[0m \u001b[32m━━━━━━━━━━━━━━━━━━━━\u001b[0m\u001b[37m\u001b[0m \u001b[1m10s\u001b[0m 15ms/step - accuracy: 0.9905 - loss: 0.0306 - val_accuracy: 0.9867 - val_loss: 0.0498\n",
            "Epoch 6/10\n",
            "\u001b[1m422/422\u001b[0m \u001b[32m━━━━━━━━━━━━━━━━━━━━\u001b[0m\u001b[37m\u001b[0m \u001b[1m10s\u001b[0m 15ms/step - accuracy: 0.9915 - loss: 0.0253 - val_accuracy: 0.9892 - val_loss: 0.0389\n",
            "Epoch 7/10\n",
            "\u001b[1m422/422\u001b[0m \u001b[32m━━━━━━━━━━━━━━━━━━━━\u001b[0m\u001b[37m\u001b[0m \u001b[1m10s\u001b[0m 15ms/step - accuracy: 0.9926 - loss: 0.0226 - val_accuracy: 0.9902 - val_loss: 0.0391\n",
            "Epoch 8/10\n",
            "\u001b[1m422/422\u001b[0m \u001b[32m━━━━━━━━━━━━━━━━━━━━\u001b[0m\u001b[37m\u001b[0m \u001b[1m7s\u001b[0m 16ms/step - accuracy: 0.9932 - loss: 0.0191 - val_accuracy: 0.9925 - val_loss: 0.0265\n",
            "Epoch 9/10\n",
            "\u001b[1m422/422\u001b[0m \u001b[32m━━━━━━━━━━━━━━━━━━━━\u001b[0m\u001b[37m\u001b[0m \u001b[1m10s\u001b[0m 15ms/step - accuracy: 0.9945 - loss: 0.0172 - val_accuracy: 0.9913 - val_loss: 0.0350\n",
            "Epoch 10/10\n",
            "\u001b[1m422/422\u001b[0m \u001b[32m━━━━━━━━━━━━━━━━━━━━\u001b[0m\u001b[37m\u001b[0m \u001b[1m10s\u001b[0m 15ms/step - accuracy: 0.9941 - loss: 0.0174 - val_accuracy: 0.9923 - val_loss: 0.0309\n",
            "\u001b[1m313/313\u001b[0m \u001b[32m━━━━━━━━━━━━━━━━━━━━\u001b[0m\u001b[37m\u001b[0m \u001b[1m2s\u001b[0m 5ms/step - accuracy: 0.3251 - loss: 3.7661\n",
            "ResNet accuracy with 10 blocks: 0.3230\n",
            "Training Inception model with 10 blocks...\n",
            "Epoch 1/10\n",
            "\u001b[1m422/422\u001b[0m \u001b[32m━━━━━━━━━━━━━━━━━━━━\u001b[0m\u001b[37m\u001b[0m \u001b[1m36s\u001b[0m 44ms/step - accuracy: 0.7018 - loss: 0.9004 - val_accuracy: 0.9712 - val_loss: 0.0957\n",
            "Epoch 2/10\n",
            "\u001b[1m422/422\u001b[0m \u001b[32m━━━━━━━━━━━━━━━━━━━━\u001b[0m\u001b[37m\u001b[0m \u001b[1m9s\u001b[0m 22ms/step - accuracy: 0.9700 - loss: 0.0965 - val_accuracy: 0.9742 - val_loss: 0.0787\n",
            "Epoch 3/10\n",
            "\u001b[1m422/422\u001b[0m \u001b[32m━━━━━━━━━━━━━━━━━━━━\u001b[0m\u001b[37m\u001b[0m \u001b[1m9s\u001b[0m 22ms/step - accuracy: 0.9792 - loss: 0.0665 - val_accuracy: 0.9815 - val_loss: 0.0623\n",
            "Epoch 4/10\n",
            "\u001b[1m422/422\u001b[0m \u001b[32m━━━━━━━━━━━━━━━━━━━━\u001b[0m\u001b[37m\u001b[0m \u001b[1m9s\u001b[0m 21ms/step - accuracy: 0.9845 - loss: 0.0497 - val_accuracy: 0.9883 - val_loss: 0.0411\n",
            "Epoch 5/10\n",
            "\u001b[1m422/422\u001b[0m \u001b[32m━━━━━━━━━━━━━━━━━━━━\u001b[0m\u001b[37m\u001b[0m \u001b[1m10s\u001b[0m 22ms/step - accuracy: 0.9877 - loss: 0.0390 - val_accuracy: 0.9863 - val_loss: 0.0471\n",
            "Epoch 6/10\n",
            "\u001b[1m422/422\u001b[0m \u001b[32m━━━━━━━━━━━━━━━━━━━━\u001b[0m\u001b[37m\u001b[0m \u001b[1m9s\u001b[0m 22ms/step - accuracy: 0.9904 - loss: 0.0319 - val_accuracy: 0.9892 - val_loss: 0.0392\n",
            "Epoch 7/10\n",
            "\u001b[1m422/422\u001b[0m \u001b[32m━━━━━━━━━━━━━━━━━━━━\u001b[0m\u001b[37m\u001b[0m \u001b[1m10s\u001b[0m 22ms/step - accuracy: 0.9907 - loss: 0.0296 - val_accuracy: 0.9890 - val_loss: 0.0370\n",
            "Epoch 8/10\n",
            "\u001b[1m422/422\u001b[0m \u001b[32m━━━━━━━━━━━━━━━━━━━━\u001b[0m\u001b[37m\u001b[0m \u001b[1m10s\u001b[0m 22ms/step - accuracy: 0.9922 - loss: 0.0236 - val_accuracy: 0.9885 - val_loss: 0.0400\n",
            "Epoch 9/10\n",
            "\u001b[1m422/422\u001b[0m \u001b[32m━━━━━━━━━━━━━━━━━━━━\u001b[0m\u001b[37m\u001b[0m \u001b[1m10s\u001b[0m 22ms/step - accuracy: 0.9927 - loss: 0.0225 - val_accuracy: 0.9880 - val_loss: 0.0430\n",
            "Epoch 10/10\n",
            "\u001b[1m422/422\u001b[0m \u001b[32m━━━━━━━━━━━━━━━━━━━━\u001b[0m\u001b[37m\u001b[0m \u001b[1m10s\u001b[0m 22ms/step - accuracy: 0.9933 - loss: 0.0191 - val_accuracy: 0.9910 - val_loss: 0.0328\n",
            "\u001b[1m313/313\u001b[0m \u001b[32m━━━━━━━━━━━━━━━━━━━━\u001b[0m\u001b[37m\u001b[0m \u001b[1m4s\u001b[0m 8ms/step - accuracy: 0.4051 - loss: 3.4737\n",
            "Inception accuracy with 10 blocks: 0.4068\n"
          ]
        },
        {
          "output_type": "display_data",
          "data": {
            "text/plain": [
              "<Figure size 1000x600 with 1 Axes>"
            ],
            "image/png": "[encoded data removed]"
          },
          "metadata": {}
        },
        {
          "output_type": "stream",
          "name": "stdout",
          "text": [
            "\n",
            "--- Performance Summary ---\n",
            "Depth | VGG      | ResNet   | Inception\n",
            "----------------------------------------\n",
            "    3 | 0.1026 | 0.1048 | 0.1096\n",
            "    6 | 0.1204 | 0.3111 | 0.3364\n",
            "   10 | 0.1358 | 0.3230 | 0.4068\n"
          ]
        }
      ]
    }
  ]
}